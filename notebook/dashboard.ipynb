{
 "cells": [
  {
   "metadata": {},
   "cell_type": "markdown",
   "source": [
    "<div align=\"center\">\n",
    "  <h1 align=\"center\">LizardByte Developer Dashboard</h1>\n",
    "</div>\n",
    "\n",
    "<div align=\"center\">\n",
    "[\n",
    "  <a href=\"#Developer-Tools\">Developer Tools</a> •\n",
    "  <a href=\"#Repository-Data\">Repository Data</a> •\n",
    "  <a href=\"#Star-Gazers\">Star Gazers</a> •\n",
    "  <a href=\"#Forks\">Forks</a> •\n",
    "  <a href=\"#Open-Issues\">Open Issues</a> •\n",
    "  <a href=\"#Open-PRs\">Open PRs</a> •\n",
    "  <a href=\"#License-Distribution\">License Distribution</a> •\n",
    "  <a href=\"#Coverage\">Coverage</a> •\n",
    "  <a href=\"#Programming-Languages\">Programming Languages</a> •\n",
    "  <a href=\"#Documentation\">Documentation</a>\n",
    "]\n",
    "</div>\n",
    "\n",
    "<div align=\"center\" id=\"Developer-Tools\">\n",
    "  <h2>Developer Tools</h2>\n",
    "  <a href=\"https://app.codecov.io/gh/LizardByte\">\n",
    "    <img src=\"https://img.shields.io/badge/codecov-button?style=for-the-badge&logo=codecov&color=gray\" alt=\"CodeCov\">\n",
    "  </a>\n",
    "  <a href=\"https://crowdin.com/project/lizardbyte\">\n",
    "    <img src=\"https://img.shields.io/badge/crowdin%20%28projects%29-button?style=for-the-badge&logo=crowdin&color=gray\" alt=\"Crowdin (projects)\">\n",
    "  </a>\n",
    "  <a href=\"https://crowdin.com/project/lizardbyte-docs\">\n",
    "    <img src=\"https://img.shields.io/badge/crowdin%20%28docs%29-button?style=for-the-badge&logo=crowdin&color=gray\" alt=\"Crowdin (docs)\">\n",
    "  </a>\n",
    "  <a href=\"https://github.com/organizations/LizardByte/settings/actions/caches\">\n",
    "    <img src=\"https://img.shields.io/badge/github%20caches-button?style=for-the-badge&logo=github-actions&color=gray\" alt=\"GitHub Caches\">\n",
    "  </a>\n",
    "  <a href=\"https://github.com/organizations/LizardByte/settings/actions/hosted-runners\">\n",
    "    <img src=\"https://img.shields.io/badge/github%20hosted%20runners-button?style=for-the-badge&logo=github&color=gray\" alt=\"GitHub Hosted Runners\">\n",
    "  </a>\n",
    "  <a href=\"https://pypi.org/user/LizardByte/\">\n",
    "    <img src=\"https://img.shields.io/badge/pypi-button?style=for-the-badge&logo=pypi&color=gray\" alt=\"PyPI\">\n",
    "  </a>\n",
    "  <a href=\"https://readthedocs.org/dashboard/lizardbyte/subprojects/\">\n",
    "    <img src=\"https://img.shields.io/badge/readthedocs-button?style=for-the-badge&logo=readthedocs&color=gray\" alt=\"ReadTheDocs\">\n",
    "  </a>\n",
    "  <a href=\"https://sonarcloud.io/organizations/lizardbyte/projects\">\n",
    "    <img src=\"https://img.shields.io/badge/sonarcloud-button?style=for-the-badge&logo=sonarcloud&color=gray\" alt=\"SonarCloud\">\n",
    "  </a>\n",
    "</div>\n",
    "\n",
    "<div align=\"center\" id=\"Under Construction\">\n",
    "  <h3>Under Construction</h3>\n",
    "  <a href=\"https://cloudsmith.io/~lizardbyte/repos\">\n",
    "    <img src=\"https://img.shields.io/badge/cloudsmith-button?style=for-the-badge&logo=cloudsmith&color=yellow\" alt=\"Cloudsmith\">\n",
    "  </a>\n",
    "  <a href=\"https://copr.fedorainfracloud.org/coprs/lizardbyte\">\n",
    "    <img src=\"https://img.shields.io/badge/fedora%20copr-button?style=for-the-badge&logo=fedora&color=yellow\" alt=\"copr\">\n",
    "  </a>\n",
    "  <a href=\"https://lizardbyte.youtrack.cloud\">\n",
    "    <img src=\"https://img.shields.io/badge/youtrack-button?style=for-the-badge&logo=jetbrains&color=yellow\" alt=\"YouTrack\">\n",
    "  </a>\n",
    "</div>\n",
    "\n",
    "## Repository Data"
   ],
   "id": "4aed1755a10d75d7"
  },
  {
   "metadata": {
    "collapsed": true,
    "jupyter": {
     "outputs_hidden": true,
     "source_hidden": true
    }
   },
   "cell_type": "code",
   "source": [
    "# Initialize the environment\n",
    "\n",
    "# standard imports\n",
    "import os\n",
    "import numpy as np\n",
    "\n",
    "# lib imports\n",
    "from dotenv import load_dotenv\n",
    "from github import Github, UnknownObjectException\n",
    "import pandas as pd\n",
    "import plotly.express as px\n",
    "import plotly.graph_objects as go\n",
    "import plotly.io as pio\n",
    "import requests\n",
    "\n",
    "# Load environment variables from .env file\n",
    "load_dotenv()\n",
    "\n",
    "# Authenticate with GitHub\n",
    "token = os.getenv(\"GITHUB_TOKEN\")\n",
    "g = Github(token)\n",
    "\n",
    "# set the default plotly template\n",
    "pio.templates.default = \"plotly_dark\"\n",
    "\n",
    "# Fetch repository data\n",
    "org_name = \"LizardByte\"\n",
    "org = g.get_organization(org_name)\n",
    "repos = org.get_repos()\n",
    "\n",
    "uno_base_url = 'https://app.lizardbyte.dev/uno'\n",
    "\n",
    "# all readthedocs projects\n",
    "# readthedocs data\n",
    "readthedocs_data_url = f'{uno_base_url}/readthedocs/projects.json'\n",
    "readthedocs_response = requests.get(readthedocs_data_url)\n",
    "if not readthedocs_response.ok:\n",
    "    raise Exception(\"Failed to fetch data from uno\")\n",
    "readthedocs_data = readthedocs_response.json()\n",
    "\n",
    "# Process data\n",
    "repo_data = []\n",
    "for repo in repos:\n",
    "    # get license\n",
    "    license_name = repo.license.name if repo.license else \"No License\"\n",
    "\n",
    "    # split open issues and PRs\n",
    "    open_issues = repo.get_issues(state='open')\n",
    "    open_prs = [issue for issue in open_issues if issue.pull_request is not None]\n",
    "    open_issues = [issue for issue in open_issues if issue.pull_request is None]\n",
    "\n",
    "    # coverage data\n",
    "    coverage_url = f'{uno_base_url}/codecov/{repo.name}.json'\n",
    "    coverage_response = requests.get(coverage_url)\n",
    "    coverage = 0\n",
    "    if coverage_response.status_code == 200:\n",
    "        try:\n",
    "            coverage_data = coverage_response.json()\n",
    "            coverage = coverage_data['totals']['coverage']\n",
    "        except Exception:\n",
    "            pass\n",
    "\n",
    "    # readthedocs data\n",
    "    readthedocs_project = None\n",
    "    for project in readthedocs_data:\n",
    "        if project['repository']['url'] == repo.clone_url:\n",
    "            readthedocs_project = project\n",
    "\n",
    "    # has README.md or README.rst\n",
    "    # check if the repo has a README.md or README.rst\n",
    "    readme_file = None\n",
    "    try:\n",
    "        readme_file = repo.get_readme()\n",
    "    except UnknownObjectException:\n",
    "        pass\n",
    "\n",
    "    repo_data.append({\n",
    "        \"repo\": repo.name,\n",
    "        \"stars\": repo.stargazers_count,\n",
    "        \"archived\": repo.archived,\n",
    "        \"fork\": repo.fork,\n",
    "        \"forks\": repo.forks_count,\n",
    "        \"issues\": open_issues,\n",
    "        \"topics\": repo.get_topics(),\n",
    "        \"languages\": repo.get_languages(),\n",
    "        \"license\": license_name,\n",
    "        \"prs\": open_prs,\n",
    "        \"created_at\": repo.created_at,\n",
    "        \"updated_at\": repo.updated_at,\n",
    "        \"coverage\": coverage,\n",
    "        \"readthedocs\": readthedocs_project,\n",
    "        \"has_readthedocs\": readthedocs_project is not None,\n",
    "        \"has_readme\": readme_file is not None,\n",
    "        \"_repo\": repo,\n",
    "    })\n",
    "\n",
    "df = pd.DataFrame(repo_data)\n",
    "df_repos = df[\n",
    "    (~df['archived']) &\n",
    "    (~df['topics'].apply(lambda topics: 'package-manager' in topics))\n",
    "]\n",
    "df_original_repos = df[\n",
    "    (~df['archived']) &\n",
    "    (~df['fork']) &\n",
    "    (~df['topics'].apply(lambda topics: 'package-manager' in topics))\n",
    "]\n",
    "\n",
    "print(f'Total Repositories: {len(repo_data)}')\n",
    "print(f'Archived Repositories: {df[\"archived\"].sum()}')\n",
    "print(f'Forked Repositories: {df[\"fork\"].sum()}')\n",
    "\n",
    "print(f'Total Open Issues: {df[\"issues\"].apply(len).sum()}')\n",
    "print(f'Total Open PRs: {df[\"prs\"].apply(len).sum()}')\n",
    "print(f'Open issues in active repositories: {df_repos[\"issues\"].apply(len).sum()}')\n",
    "print(f'Open PRs in active repositories: {df_repos[\"prs\"].apply(len).sum()}')"
   ],
   "id": "initial_id",
   "outputs": [],
   "execution_count": null
  },
  {
   "metadata": {},
   "cell_type": "markdown",
   "source": "### Star Gazers",
   "id": "616d87e4b0c3dea5"
  },
  {
   "cell_type": "code",
   "id": "337aca37b216cc0d",
   "metadata": {
    "jupyter": {
     "source_hidden": true
    }
   },
   "source": [
    "# Stars\n",
    "df_stars = df_repos.sort_values(\n",
    "    by='stars',\n",
    "    ascending=False,\n",
    ")\n",
    "df_stars['log_stars'] = np.log1p(df_stars['stars'])\n",
    "fig = px.bar(\n",
    "    df_stars,\n",
    "    x='repo',\n",
    "    y='log_stars',\n",
    "    title='Stars',\n",
    "    text='stars',\n",
    ")\n",
    "fig.update_traces(\n",
    "    texttemplate='%{text}',\n",
    "    textposition='inside',\n",
    ")\n",
    "fig.update_layout(\n",
    "    yaxis_title=None,\n",
    "    yaxis_showticklabels=False,\n",
    ")\n",
    "fig.show()"
   ],
   "outputs": [],
   "execution_count": null
  },
  {
   "metadata": {},
   "cell_type": "code",
   "source": [
    "# Star History\n",
    "stargazer_data = []\n",
    "for repo in df_repos.to_dict('records'):\n",
    "    stargazers = repo['_repo'].get_stargazers_with_dates()\n",
    "    for stargazer in stargazers:\n",
    "        stargazer_data.append({\n",
    "            \"repo\": repo['repo'],\n",
    "            \"date\": stargazer.starred_at,\n",
    "        })\n",
    "\n",
    "# Convert to DataFrame\n",
    "df_stargazers = pd.DataFrame(stargazer_data)\n",
    "\n",
    "# Sort by date\n",
    "df_stargazers = df_stargazers.sort_values(by=\"date\")\n",
    "\n",
    "# Calculate cumulative stars\n",
    "df_stargazers[\"cumulative_stars\"] = df_stargazers.groupby(\"repo\").cumcount() + 1\n",
    "\n",
    "# Visualize using Plotly\n",
    "fig = px.line(\n",
    "    df_stargazers,\n",
    "    x=\"date\",\n",
    "    y=\"cumulative_stars\",\n",
    "    color=\"repo\",\n",
    "    title=\"Star History\",\n",
    "    labels={\"date\": \"Date\", \"cumulative_stars\": \"Cumulative Stars\"},\n",
    ")\n",
    "\n",
    "fig.show()"
   ],
   "id": "a08398efe666a399",
   "outputs": [],
   "execution_count": null
  },
  {
   "metadata": {},
   "cell_type": "markdown",
   "source": "### Forks",
   "id": "d46c30581ed069fd"
  },
  {
   "cell_type": "code",
   "id": "7c6ffc3f9b56adc6",
   "metadata": {
    "jupyter": {
     "source_hidden": true
    }
   },
   "source": [
    "# Forks\n",
    "df_forks = df_repos.sort_values(\n",
    "    by='forks',\n",
    "    ascending=False,\n",
    ")\n",
    "df_forks['log_forks'] = np.log1p(df_forks['forks'])\n",
    "fig = px.bar(\n",
    "    df_forks,\n",
    "    x='repo',\n",
    "    y='log_forks',\n",
    "    title='Forks',\n",
    "    text='forks',\n",
    ")\n",
    "fig.update_traces(\n",
    "    texttemplate='%{text}',\n",
    "    textposition='inside',\n",
    ")\n",
    "fig.update_layout(\n",
    "    yaxis_title=None,\n",
    "    yaxis_showticklabels=False,\n",
    ")\n",
    "fig.show()"
   ],
   "outputs": [],
   "execution_count": null
  },
  {
   "metadata": {},
   "cell_type": "markdown",
   "source": "### Open Issues",
   "id": "89ad81f3285c93d5"
  },
  {
   "cell_type": "code",
   "id": "ce4c9d640154b774",
   "metadata": {
    "jupyter": {
     "source_hidden": true
    }
   },
   "source": [
    "# Open Issues\n",
    "df_issues = df_repos.copy()\n",
    "df_issues['issue_count'] = df_issues['issues'].apply(len)\n",
    "df_issues = df_issues.sort_values(by='issue_count', ascending=False)\n",
    "df_issues['log_issues'] = np.log1p(df_issues['issue_count'])\n",
    "fig = px.bar(\n",
    "    df_issues,\n",
    "    x='repo',\n",
    "    y='log_issues',\n",
    "    title='Open Issues',\n",
    "    text='issue_count',\n",
    ")\n",
    "fig.update_traces(\n",
    "    texttemplate='%{text}',\n",
    "    textposition='inside',\n",
    ")\n",
    "fig.update_layout(\n",
    "    yaxis_title=None,\n",
    "    yaxis_showticklabels=False,\n",
    ")\n",
    "fig.show()"
   ],
   "outputs": [],
   "execution_count": null
  },
  {
   "metadata": {},
   "cell_type": "markdown",
   "source": "### Open PRs",
   "id": "63b0eb1841d850be"
  },
  {
   "cell_type": "code",
   "id": "4f473fe7a839b01c",
   "metadata": {
    "jupyter": {
     "source_hidden": true
    }
   },
   "source": [
    "# Open PRs\n",
    "pr_data = []\n",
    "for repo in df_repos.to_dict('records'):\n",
    "    draft_prs = 0\n",
    "    non_draft_prs = 0\n",
    "    dependabot_prs = 0\n",
    "\n",
    "    for pr in repo['prs']:\n",
    "        pr_details = repo['_repo'].get_pull(pr.number)\n",
    "        if pr_details.user.login == 'dependabot[bot]' or pr_details.user.login == 'renovate[bot]':\n",
    "            dependabot_prs += 1\n",
    "        elif pr_details.draft:\n",
    "            draft_prs += 1\n",
    "        else:\n",
    "            non_draft_prs += 1\n",
    "\n",
    "    pr_data.append({\n",
    "        \"repo\": repo['repo'],\n",
    "        \"Draft\": draft_prs,\n",
    "        \"Ready for review\": non_draft_prs,\n",
    "        \"Dependency\": dependabot_prs,\n",
    "    })\n",
    "\n",
    "df_prs = pd.DataFrame(pr_data)\n",
    "df_prs['total_prs'] = df_prs[['Draft', 'Ready for review', 'Dependency']].sum(axis=1)\n",
    "\n",
    "# Sort by total PRs in descending order\n",
    "df_prs = df_prs.sort_values(by='total_prs', ascending=False)\n",
    "\n",
    "# Visualize data using a stacked bar chart\n",
    "fig = px.bar(\n",
    "    df_prs,\n",
    "    x='repo',\n",
    "    y=['Draft', 'Ready for review', 'Dependency'],\n",
    "    title='Open Pull Requests',\n",
    "    labels={'value': 'Count', 'variable': 'PR Type'},\n",
    "    barmode='stack'\n",
    ")\n",
    "fig.update_layout(\n",
    "    yaxis_title='Count of PRs',\n",
    "    xaxis_title='Repository',\n",
    ")\n",
    "fig.show()"
   ],
   "outputs": [],
   "execution_count": null
  },
  {
   "metadata": {},
   "cell_type": "markdown",
   "source": "### License Distribution",
   "id": "3c067ce1b06d52da"
  },
  {
   "cell_type": "code",
   "id": "2bd8913a09eb4802",
   "metadata": {
    "jupyter": {
     "source_hidden": true
    }
   },
   "source": [
    "# License distribution\n",
    "license_counts = df_repos.groupby(['license', 'repo']).size().reset_index(name='count')\n",
    "\n",
    "# Create a nested treemap for license distribution with repo names in hover data\n",
    "fig_treemap = px.treemap(\n",
    "    license_counts,\n",
    "    path=['license', 'repo'],\n",
    "    values='count',\n",
    "    title='License Distribution',\n",
    "    hover_data={'repo': True, 'count': False},\n",
    ")\n",
    "fig_treemap.show()"
   ],
   "outputs": [],
   "execution_count": null
  },
  {
   "metadata": {},
   "cell_type": "markdown",
   "source": "### Coverage",
   "id": "1e7ac0186201244b"
  },
  {
   "cell_type": "code",
   "id": "c8dced4bcfff438",
   "metadata": {
    "jupyter": {
     "source_hidden": true
    }
   },
   "source": [
    "# Coverage\n",
    "df_coverage = df_repos.sort_values(\n",
    "    by='coverage',\n",
    "    ascending=False,\n",
    ")\n",
    "fig_scatter = px.scatter(\n",
    "    df_coverage,\n",
    "    x='repo',\n",
    "    y='coverage',\n",
    "    title='Coverage Percentage',\n",
    "    size='coverage',\n",
    "    color='coverage',\n",
    ")\n",
    "fig_scatter.update_layout(\n",
    "    yaxis_title='Coverage Percentage',\n",
    "    xaxis_title='Repository',\n",
    ")\n",
    "fig_scatter.show()"
   ],
   "outputs": [],
   "execution_count": null
  },
  {
   "metadata": {},
   "cell_type": "markdown",
   "source": "### Programming Languages",
   "id": "d9116f5c8e154dae"
  },
  {
   "metadata": {},
   "cell_type": "code",
   "source": [
    "# Programming Languages by Bytes of Code\n",
    "language_data = []\n",
    "for repo in df_repos.to_dict('records'):\n",
    "    for language, bytes_of_code in repo['languages'].items():\n",
    "        language_data.append({\n",
    "            \"repo\": repo['repo'],\n",
    "            \"language\": language,\n",
    "            \"bytes_of_code\": bytes_of_code,\n",
    "        })\n",
    "\n",
    "df_languages = pd.DataFrame(language_data)\n",
    "\n",
    "# Aggregate data by language and repo\n",
    "language_counts_bytes = df_languages.groupby(['language', 'repo']).agg({\n",
    "    'bytes_of_code': 'sum'\n",
    "}).reset_index()\n",
    "\n",
    "language_counts_repos = df_languages.groupby(['language', 'repo']).size().reset_index(name='repo_count')\n",
    "\n",
    "def create_language_figures(counts: pd.DataFrame, path_key: str, value_key: str):\n",
    "    _fig_treemap = px.treemap(\n",
    "        counts,\n",
    "        path=[path_key, 'repo'],\n",
    "        values=value_key,\n",
    "    )\n",
    "    _fig_sunburst = px.sunburst(\n",
    "        counts,\n",
    "        path=[path_key, 'repo'],\n",
    "        values=value_key,\n",
    "    )\n",
    "    return _fig_treemap, _fig_sunburst\n",
    "\n",
    "# List of tuples containing the data and titles for each figure\n",
    "figures_data = [\n",
    "    (language_counts_bytes, 'language', 'bytes_of_code', 'Programming Languages by Bytes of Code'),\n",
    "    (language_counts_repos, 'language', 'repo_count', 'Programming Languages by Repo Count')\n",
    "]\n",
    "\n",
    "# Loop through the list to create figures and add traces\n",
    "for _counts, _path_key, value_key, title in figures_data:\n",
    "    fig_treemap, fig_sunburst = create_language_figures(counts=_counts, path_key=_path_key, value_key=value_key)\n",
    "\n",
    "    fig = go.Figure()\n",
    "    fig.add_trace(fig_treemap.data[0])\n",
    "    fig.add_trace(fig_sunburst.data[0])\n",
    "    fig.data[1].visible = False\n",
    "\n",
    "    fig.update_layout(\n",
    "        title=title,\n",
    "        updatemenus=[\n",
    "            {\n",
    "                \"buttons\": [\n",
    "                    {\n",
    "                        \"label\": \"Treemap\",\n",
    "                        \"method\": \"update\",\n",
    "                        \"args\": [\n",
    "                            {\"visible\": [True, False]},\n",
    "                        ],\n",
    "                    },\n",
    "                    {\n",
    "                        \"label\": \"Sunburst\",\n",
    "                        \"method\": \"update\",\n",
    "                        \"args\": [\n",
    "                            {\"visible\": [False, True]},\n",
    "                        ],\n",
    "                    },\n",
    "                ],\n",
    "                \"direction\": \"down\",\n",
    "                \"showactive\": True,\n",
    "            }\n",
    "        ]\n",
    "    )\n",
    "\n",
    "    fig.show()"
   ],
   "id": "20e09d93eda0478a",
   "outputs": [],
   "execution_count": null
  },
  {
   "metadata": {},
   "cell_type": "markdown",
   "source": "### Documentation",
   "id": "a520a320cd823874"
  },
  {
   "metadata": {
    "ExecuteTime": {
     "end_time": "2024-08-20T02:58:06.219404Z",
     "start_time": "2024-08-20T02:58:06.066344Z"
    }
   },
   "cell_type": "code",
   "source": [
    "# Docs\n",
    "\n",
    "# Initialize an empty list\n",
    "docs_data = []\n",
    "for repo in df_repos.to_dict('records'):\n",
    "    docs_data.append({\n",
    "        \"repo\": repo['repo'],\n",
    "        \"has_readme\": repo['has_readme'],\n",
    "        \"has_readthedocs\": repo['has_readthedocs'],\n",
    "    })\n",
    "\n",
    "df_docs = pd.DataFrame(docs_data)\n",
    "\n",
    "# Aggregate data by has_readme/has_readthedocs and repo\n",
    "readme_counts = df_docs.groupby(['has_readme', 'repo']).size().reset_index(name='repo_count')\n",
    "readthedocs_counts = df_docs.groupby(['has_readthedocs', 'repo']).size().reset_index(name='repo_count')\n",
    "\n",
    "def create_figures(counts: pd.DataFrame, path_key: str):\n",
    "    _fig_treemap = px.treemap(\n",
    "        counts,\n",
    "        path=[path_key, 'repo'],\n",
    "        values='repo_count',\n",
    "    )\n",
    "    _fig_sunburst = px.sunburst(\n",
    "        counts,\n",
    "        path=[path_key, 'repo'],\n",
    "        values='repo_count',\n",
    "    )\n",
    "    return _fig_treemap, _fig_sunburst\n",
    "\n",
    "# List of tuples containing the data and titles for each figure\n",
    "figures_data = [\n",
    "    (readme_counts, 'has_readme', 'Has README file'),\n",
    "    (readthedocs_counts, 'has_readthedocs', 'Uses ReadTheDocs')\n",
    "]\n",
    "\n",
    "# Loop through the list to create figures and add traces\n",
    "for _counts, _path_key, title in figures_data:\n",
    "    fig_treemap, fig_sunburst = create_figures(counts=_counts, path_key=_path_key)\n",
    "\n",
    "    fig = go.Figure()\n",
    "    fig.add_trace(fig_treemap.data[0])\n",
    "    fig.add_trace(fig_sunburst.data[0])\n",
    "    fig.data[1].visible = False\n",
    "\n",
    "    fig.update_layout(\n",
    "        title=title,\n",
    "        updatemenus=[\n",
    "            {\n",
    "                \"buttons\": [\n",
    "                    {\n",
    "                        \"label\": \"Treemap\",\n",
    "                        \"method\": \"update\",\n",
    "                        \"args\": [{\"visible\": [True, False]}],\n",
    "                    },\n",
    "                    {\n",
    "                        \"label\": \"Sunburst\",\n",
    "                        \"method\": \"update\",\n",
    "                        \"args\": [{\"visible\": [False, True]}],\n",
    "                    },\n",
    "                ],\n",
    "                \"direction\": \"down\",\n",
    "                \"showactive\": True,\n",
    "            }\n",
    "        ]\n",
    "    )\n",
    "\n",
    "    fig.show()"
   ],
   "id": "ec43a8fd7f9d49bb",
   "outputs": [
    {
     "data": {
      "application/vnd.plotly.v1+json": {
       "data": [
        {
         "branchvalues": "total",
         "domain": {
          "x": [
           0.0,
           1.0
          ],
          "y": [
           0.0,
           1.0
          ]
         },
         "hovertemplate": "labels=%{label}<br>repo_count=%{value}<br>parent=%{parent}<br>id=%{id}<extra></extra>",
         "ids": [
          "True/.github",
          "True/GSMS",
          "True/LizardByte.github.io",
          "True/RetroArcher",
          "True/Sunshine",
          "True/Themerr-jellyfin",
          "True/Themerr-kodi",
          "True/Themerr-plex",
          "True/ThemerrDB",
          "True/Virtual-Gamepad-Emulation-Bus",
          "True/Virtual-Gamepad-Emulation-Client",
          "True/Virtual-Gamepad-Emulation-dotnet",
          "True/awesome-sunshine",
          "False/build-deps",
          "True/create-release-action",
          "True/dashboard",
          "False/db",
          "True/doxyconfig",
          "True/homebrew-homebrew",
          "True/homebrew-release-action",
          "True/jellyfin-plugin-repo",
          "True/libdisplaydevice",
          "True/nvapi-open-source-sdk",
          "True/pacman-repo",
          "True/setup-python-action",
          "True/setup-release-action",
          "True/shared-web",
          "True/support-bot",
          "True/support-bot-commands",
          "True/template-base",
          "True/tray",
          "False/uno",
          "True/update-changelog-action",
          "False",
          "True"
         ],
         "labels": [
          ".github",
          "GSMS",
          "LizardByte.github.io",
          "RetroArcher",
          "Sunshine",
          "Themerr-jellyfin",
          "Themerr-kodi",
          "Themerr-plex",
          "ThemerrDB",
          "Virtual-Gamepad-Emulation-Bus",
          "Virtual-Gamepad-Emulation-Client",
          "Virtual-Gamepad-Emulation-dotnet",
          "awesome-sunshine",
          "build-deps",
          "create-release-action",
          "dashboard",
          "db",
          "doxyconfig",
          "homebrew-homebrew",
          "homebrew-release-action",
          "jellyfin-plugin-repo",
          "libdisplaydevice",
          "nvapi-open-source-sdk",
          "pacman-repo",
          "setup-python-action",
          "setup-release-action",
          "shared-web",
          "support-bot",
          "support-bot-commands",
          "template-base",
          "tray",
          "uno",
          "update-changelog-action",
          "False",
          "True"
         ],
         "name": "",
         "parents": [
          "True",
          "True",
          "True",
          "True",
          "True",
          "True",
          "True",
          "True",
          "True",
          "True",
          "True",
          "True",
          "True",
          "False",
          "True",
          "True",
          "False",
          "True",
          "True",
          "True",
          "True",
          "True",
          "True",
          "True",
          "True",
          "True",
          "True",
          "True",
          "True",
          "True",
          "True",
          "False",
          "True",
          "",
          ""
         ],
         "values": [
          1,
          1,
          1,
          1,
          1,
          1,
          1,
          1,
          1,
          1,
          1,
          1,
          1,
          1,
          1,
          1,
          1,
          1,
          1,
          1,
          1,
          1,
          1,
          1,
          1,
          1,
          1,
          1,
          1,
          1,
          1,
          1,
          1,
          3,
          30
         ],
         "type": "treemap"
        },
        {
         "branchvalues": "total",
         "domain": {
          "x": [
           0.0,
           1.0
          ],
          "y": [
           0.0,
           1.0
          ]
         },
         "hovertemplate": "labels=%{label}<br>repo_count=%{value}<br>parent=%{parent}<br>id=%{id}<extra></extra>",
         "ids": [
          "True/.github",
          "True/GSMS",
          "True/LizardByte.github.io",
          "True/RetroArcher",
          "True/Sunshine",
          "True/Themerr-jellyfin",
          "True/Themerr-kodi",
          "True/Themerr-plex",
          "True/ThemerrDB",
          "True/Virtual-Gamepad-Emulation-Bus",
          "True/Virtual-Gamepad-Emulation-Client",
          "True/Virtual-Gamepad-Emulation-dotnet",
          "True/awesome-sunshine",
          "False/build-deps",
          "True/create-release-action",
          "True/dashboard",
          "False/db",
          "True/doxyconfig",
          "True/homebrew-homebrew",
          "True/homebrew-release-action",
          "True/jellyfin-plugin-repo",
          "True/libdisplaydevice",
          "True/nvapi-open-source-sdk",
          "True/pacman-repo",
          "True/setup-python-action",
          "True/setup-release-action",
          "True/shared-web",
          "True/support-bot",
          "True/support-bot-commands",
          "True/template-base",
          "True/tray",
          "False/uno",
          "True/update-changelog-action",
          "False",
          "True"
         ],
         "labels": [
          ".github",
          "GSMS",
          "LizardByte.github.io",
          "RetroArcher",
          "Sunshine",
          "Themerr-jellyfin",
          "Themerr-kodi",
          "Themerr-plex",
          "ThemerrDB",
          "Virtual-Gamepad-Emulation-Bus",
          "Virtual-Gamepad-Emulation-Client",
          "Virtual-Gamepad-Emulation-dotnet",
          "awesome-sunshine",
          "build-deps",
          "create-release-action",
          "dashboard",
          "db",
          "doxyconfig",
          "homebrew-homebrew",
          "homebrew-release-action",
          "jellyfin-plugin-repo",
          "libdisplaydevice",
          "nvapi-open-source-sdk",
          "pacman-repo",
          "setup-python-action",
          "setup-release-action",
          "shared-web",
          "support-bot",
          "support-bot-commands",
          "template-base",
          "tray",
          "uno",
          "update-changelog-action",
          "False",
          "True"
         ],
         "name": "",
         "parents": [
          "True",
          "True",
          "True",
          "True",
          "True",
          "True",
          "True",
          "True",
          "True",
          "True",
          "True",
          "True",
          "True",
          "False",
          "True",
          "True",
          "False",
          "True",
          "True",
          "True",
          "True",
          "True",
          "True",
          "True",
          "True",
          "True",
          "True",
          "True",
          "True",
          "True",
          "True",
          "False",
          "True",
          "",
          ""
         ],
         "values": [
          1,
          1,
          1,
          1,
          1,
          1,
          1,
          1,
          1,
          1,
          1,
          1,
          1,
          1,
          1,
          1,
          1,
          1,
          1,
          1,
          1,
          1,
          1,
          1,
          1,
          1,
          1,
          1,
          1,
          1,
          1,
          1,
          1,
          3,
          30
         ],
         "type": "sunburst",
         "visible": false
        }
       ],
       "layout": {
        "template": {
         "data": {
          "histogram2dcontour": [
           {
            "type": "histogram2dcontour",
            "colorbar": {
             "outlinewidth": 0,
             "ticks": ""
            },
            "colorscale": [
             [
              0.0,
              "#0d0887"
             ],
             [
              0.1111111111111111,
              "#46039f"
             ],
             [
              0.2222222222222222,
              "#7201a8"
             ],
             [
              0.3333333333333333,
              "#9c179e"
             ],
             [
              0.4444444444444444,
              "#bd3786"
             ],
             [
              0.5555555555555556,
              "#d8576b"
             ],
             [
              0.6666666666666666,
              "#ed7953"
             ],
             [
              0.7777777777777778,
              "#fb9f3a"
             ],
             [
              0.8888888888888888,
              "#fdca26"
             ],
             [
              1.0,
              "#f0f921"
             ]
            ]
           }
          ],
          "choropleth": [
           {
            "type": "choropleth",
            "colorbar": {
             "outlinewidth": 0,
             "ticks": ""
            }
           }
          ],
          "histogram2d": [
           {
            "type": "histogram2d",
            "colorbar": {
             "outlinewidth": 0,
             "ticks": ""
            },
            "colorscale": [
             [
              0.0,
              "#0d0887"
             ],
             [
              0.1111111111111111,
              "#46039f"
             ],
             [
              0.2222222222222222,
              "#7201a8"
             ],
             [
              0.3333333333333333,
              "#9c179e"
             ],
             [
              0.4444444444444444,
              "#bd3786"
             ],
             [
              0.5555555555555556,
              "#d8576b"
             ],
             [
              0.6666666666666666,
              "#ed7953"
             ],
             [
              0.7777777777777778,
              "#fb9f3a"
             ],
             [
              0.8888888888888888,
              "#fdca26"
             ],
             [
              1.0,
              "#f0f921"
             ]
            ]
           }
          ],
          "heatmap": [
           {
            "type": "heatmap",
            "colorbar": {
             "outlinewidth": 0,
             "ticks": ""
            },
            "colorscale": [
             [
              0.0,
              "#0d0887"
             ],
             [
              0.1111111111111111,
              "#46039f"
             ],
             [
              0.2222222222222222,
              "#7201a8"
             ],
             [
              0.3333333333333333,
              "#9c179e"
             ],
             [
              0.4444444444444444,
              "#bd3786"
             ],
             [
              0.5555555555555556,
              "#d8576b"
             ],
             [
              0.6666666666666666,
              "#ed7953"
             ],
             [
              0.7777777777777778,
              "#fb9f3a"
             ],
             [
              0.8888888888888888,
              "#fdca26"
             ],
             [
              1.0,
              "#f0f921"
             ]
            ]
           }
          ],
          "heatmapgl": [
           {
            "type": "heatmapgl",
            "colorbar": {
             "outlinewidth": 0,
             "ticks": ""
            },
            "colorscale": [
             [
              0.0,
              "#0d0887"
             ],
             [
              0.1111111111111111,
              "#46039f"
             ],
             [
              0.2222222222222222,
              "#7201a8"
             ],
             [
              0.3333333333333333,
              "#9c179e"
             ],
             [
              0.4444444444444444,
              "#bd3786"
             ],
             [
              0.5555555555555556,
              "#d8576b"
             ],
             [
              0.6666666666666666,
              "#ed7953"
             ],
             [
              0.7777777777777778,
              "#fb9f3a"
             ],
             [
              0.8888888888888888,
              "#fdca26"
             ],
             [
              1.0,
              "#f0f921"
             ]
            ]
           }
          ],
          "contourcarpet": [
           {
            "type": "contourcarpet",
            "colorbar": {
             "outlinewidth": 0,
             "ticks": ""
            }
           }
          ],
          "contour": [
           {
            "type": "contour",
            "colorbar": {
             "outlinewidth": 0,
             "ticks": ""
            },
            "colorscale": [
             [
              0.0,
              "#0d0887"
             ],
             [
              0.1111111111111111,
              "#46039f"
             ],
             [
              0.2222222222222222,
              "#7201a8"
             ],
             [
              0.3333333333333333,
              "#9c179e"
             ],
             [
              0.4444444444444444,
              "#bd3786"
             ],
             [
              0.5555555555555556,
              "#d8576b"
             ],
             [
              0.6666666666666666,
              "#ed7953"
             ],
             [
              0.7777777777777778,
              "#fb9f3a"
             ],
             [
              0.8888888888888888,
              "#fdca26"
             ],
             [
              1.0,
              "#f0f921"
             ]
            ]
           }
          ],
          "surface": [
           {
            "type": "surface",
            "colorbar": {
             "outlinewidth": 0,
             "ticks": ""
            },
            "colorscale": [
             [
              0.0,
              "#0d0887"
             ],
             [
              0.1111111111111111,
              "#46039f"
             ],
             [
              0.2222222222222222,
              "#7201a8"
             ],
             [
              0.3333333333333333,
              "#9c179e"
             ],
             [
              0.4444444444444444,
              "#bd3786"
             ],
             [
              0.5555555555555556,
              "#d8576b"
             ],
             [
              0.6666666666666666,
              "#ed7953"
             ],
             [
              0.7777777777777778,
              "#fb9f3a"
             ],
             [
              0.8888888888888888,
              "#fdca26"
             ],
             [
              1.0,
              "#f0f921"
             ]
            ]
           }
          ],
          "mesh3d": [
           {
            "type": "mesh3d",
            "colorbar": {
             "outlinewidth": 0,
             "ticks": ""
            }
           }
          ],
          "scatter": [
           {
            "marker": {
             "line": {
              "color": "#283442"
             }
            },
            "type": "scatter"
           }
          ],
          "parcoords": [
           {
            "type": "parcoords",
            "line": {
             "colorbar": {
              "outlinewidth": 0,
              "ticks": ""
             }
            }
           }
          ],
          "scatterpolargl": [
           {
            "type": "scatterpolargl",
            "marker": {
             "colorbar": {
              "outlinewidth": 0,
              "ticks": ""
             }
            }
           }
          ],
          "bar": [
           {
            "error_x": {
             "color": "#f2f5fa"
            },
            "error_y": {
             "color": "#f2f5fa"
            },
            "marker": {
             "line": {
              "color": "rgb(17,17,17)",
              "width": 0.5
             },
             "pattern": {
              "fillmode": "overlay",
              "size": 10,
              "solidity": 0.2
             }
            },
            "type": "bar"
           }
          ],
          "scattergeo": [
           {
            "type": "scattergeo",
            "marker": {
             "colorbar": {
              "outlinewidth": 0,
              "ticks": ""
             }
            }
           }
          ],
          "scatterpolar": [
           {
            "type": "scatterpolar",
            "marker": {
             "colorbar": {
              "outlinewidth": 0,
              "ticks": ""
             }
            }
           }
          ],
          "histogram": [
           {
            "marker": {
             "pattern": {
              "fillmode": "overlay",
              "size": 10,
              "solidity": 0.2
             }
            },
            "type": "histogram"
           }
          ],
          "scattergl": [
           {
            "marker": {
             "line": {
              "color": "#283442"
             }
            },
            "type": "scattergl"
           }
          ],
          "scatter3d": [
           {
            "type": "scatter3d",
            "line": {
             "colorbar": {
              "outlinewidth": 0,
              "ticks": ""
             }
            },
            "marker": {
             "colorbar": {
              "outlinewidth": 0,
              "ticks": ""
             }
            }
           }
          ],
          "scattermapbox": [
           {
            "type": "scattermapbox",
            "marker": {
             "colorbar": {
              "outlinewidth": 0,
              "ticks": ""
             }
            }
           }
          ],
          "scatterternary": [
           {
            "type": "scatterternary",
            "marker": {
             "colorbar": {
              "outlinewidth": 0,
              "ticks": ""
             }
            }
           }
          ],
          "scattercarpet": [
           {
            "type": "scattercarpet",
            "marker": {
             "colorbar": {
              "outlinewidth": 0,
              "ticks": ""
             }
            }
           }
          ],
          "carpet": [
           {
            "aaxis": {
             "endlinecolor": "#A2B1C6",
             "gridcolor": "#506784",
             "linecolor": "#506784",
             "minorgridcolor": "#506784",
             "startlinecolor": "#A2B1C6"
            },
            "baxis": {
             "endlinecolor": "#A2B1C6",
             "gridcolor": "#506784",
             "linecolor": "#506784",
             "minorgridcolor": "#506784",
             "startlinecolor": "#A2B1C6"
            },
            "type": "carpet"
           }
          ],
          "table": [
           {
            "cells": {
             "fill": {
              "color": "#506784"
             },
             "line": {
              "color": "rgb(17,17,17)"
             }
            },
            "header": {
             "fill": {
              "color": "#2a3f5f"
             },
             "line": {
              "color": "rgb(17,17,17)"
             }
            },
            "type": "table"
           }
          ],
          "barpolar": [
           {
            "marker": {
             "line": {
              "color": "rgb(17,17,17)",
              "width": 0.5
             },
             "pattern": {
              "fillmode": "overlay",
              "size": 10,
              "solidity": 0.2
             }
            },
            "type": "barpolar"
           }
          ],
          "pie": [
           {
            "automargin": true,
            "type": "pie"
           }
          ]
         },
         "layout": {
          "autotypenumbers": "strict",
          "colorway": [
           "#636efa",
           "#EF553B",
           "#00cc96",
           "#ab63fa",
           "#FFA15A",
           "#19d3f3",
           "#FF6692",
           "#B6E880",
           "#FF97FF",
           "#FECB52"
          ],
          "font": {
           "color": "#f2f5fa"
          },
          "hovermode": "closest",
          "hoverlabel": {
           "align": "left"
          },
          "paper_bgcolor": "rgb(17,17,17)",
          "plot_bgcolor": "rgb(17,17,17)",
          "polar": {
           "bgcolor": "rgb(17,17,17)",
           "angularaxis": {
            "gridcolor": "#506784",
            "linecolor": "#506784",
            "ticks": ""
           },
           "radialaxis": {
            "gridcolor": "#506784",
            "linecolor": "#506784",
            "ticks": ""
           }
          },
          "ternary": {
           "bgcolor": "rgb(17,17,17)",
           "aaxis": {
            "gridcolor": "#506784",
            "linecolor": "#506784",
            "ticks": ""
           },
           "baxis": {
            "gridcolor": "#506784",
            "linecolor": "#506784",
            "ticks": ""
           },
           "caxis": {
            "gridcolor": "#506784",
            "linecolor": "#506784",
            "ticks": ""
           }
          },
          "coloraxis": {
           "colorbar": {
            "outlinewidth": 0,
            "ticks": ""
           }
          },
          "colorscale": {
           "sequential": [
            [
             0.0,
             "#0d0887"
            ],
            [
             0.1111111111111111,
             "#46039f"
            ],
            [
             0.2222222222222222,
             "#7201a8"
            ],
            [
             0.3333333333333333,
             "#9c179e"
            ],
            [
             0.4444444444444444,
             "#bd3786"
            ],
            [
             0.5555555555555556,
             "#d8576b"
            ],
            [
             0.6666666666666666,
             "#ed7953"
            ],
            [
             0.7777777777777778,
             "#fb9f3a"
            ],
            [
             0.8888888888888888,
             "#fdca26"
            ],
            [
             1.0,
             "#f0f921"
            ]
           ],
           "sequentialminus": [
            [
             0.0,
             "#0d0887"
            ],
            [
             0.1111111111111111,
             "#46039f"
            ],
            [
             0.2222222222222222,
             "#7201a8"
            ],
            [
             0.3333333333333333,
             "#9c179e"
            ],
            [
             0.4444444444444444,
             "#bd3786"
            ],
            [
             0.5555555555555556,
             "#d8576b"
            ],
            [
             0.6666666666666666,
             "#ed7953"
            ],
            [
             0.7777777777777778,
             "#fb9f3a"
            ],
            [
             0.8888888888888888,
             "#fdca26"
            ],
            [
             1.0,
             "#f0f921"
            ]
           ],
           "diverging": [
            [
             0,
             "#8e0152"
            ],
            [
             0.1,
             "#c51b7d"
            ],
            [
             0.2,
             "#de77ae"
            ],
            [
             0.3,
             "#f1b6da"
            ],
            [
             0.4,
             "#fde0ef"
            ],
            [
             0.5,
             "#f7f7f7"
            ],
            [
             0.6,
             "#e6f5d0"
            ],
            [
             0.7,
             "#b8e186"
            ],
            [
             0.8,
             "#7fbc41"
            ],
            [
             0.9,
             "#4d9221"
            ],
            [
             1,
             "#276419"
            ]
           ]
          },
          "xaxis": {
           "gridcolor": "#283442",
           "linecolor": "#506784",
           "ticks": "",
           "title": {
            "standoff": 15
           },
           "zerolinecolor": "#283442",
           "automargin": true,
           "zerolinewidth": 2
          },
          "yaxis": {
           "gridcolor": "#283442",
           "linecolor": "#506784",
           "ticks": "",
           "title": {
            "standoff": 15
           },
           "zerolinecolor": "#283442",
           "automargin": true,
           "zerolinewidth": 2
          },
          "scene": {
           "xaxis": {
            "backgroundcolor": "rgb(17,17,17)",
            "gridcolor": "#506784",
            "linecolor": "#506784",
            "showbackground": true,
            "ticks": "",
            "zerolinecolor": "#C8D4E3",
            "gridwidth": 2
           },
           "yaxis": {
            "backgroundcolor": "rgb(17,17,17)",
            "gridcolor": "#506784",
            "linecolor": "#506784",
            "showbackground": true,
            "ticks": "",
            "zerolinecolor": "#C8D4E3",
            "gridwidth": 2
           },
           "zaxis": {
            "backgroundcolor": "rgb(17,17,17)",
            "gridcolor": "#506784",
            "linecolor": "#506784",
            "showbackground": true,
            "ticks": "",
            "zerolinecolor": "#C8D4E3",
            "gridwidth": 2
           }
          },
          "shapedefaults": {
           "line": {
            "color": "#f2f5fa"
           }
          },
          "annotationdefaults": {
           "arrowcolor": "#f2f5fa",
           "arrowhead": 0,
           "arrowwidth": 1
          },
          "geo": {
           "bgcolor": "rgb(17,17,17)",
           "landcolor": "rgb(17,17,17)",
           "subunitcolor": "#506784",
           "showland": true,
           "showlakes": true,
           "lakecolor": "rgb(17,17,17)"
          },
          "title": {
           "x": 0.05
          },
          "updatemenudefaults": {
           "bgcolor": "#506784",
           "borderwidth": 0
          },
          "sliderdefaults": {
           "bgcolor": "#C8D4E3",
           "borderwidth": 1,
           "bordercolor": "rgb(17,17,17)",
           "tickwidth": 0
          },
          "mapbox": {
           "style": "dark"
          }
         }
        },
        "title": {
         "text": "Has README file"
        },
        "updatemenus": [
         {
          "buttons": [
           {
            "args": [
             {
              "visible": [
               true,
               false
              ]
             }
            ],
            "label": "Treemap",
            "method": "update"
           },
           {
            "args": [
             {
              "visible": [
               false,
               true
              ]
             }
            ],
            "label": "Sunburst",
            "method": "update"
           }
          ],
          "direction": "down",
          "showactive": true
         }
        ]
       },
       "config": {
        "plotlyServerURL": "https://plot.ly"
       }
      },
      "text/html": [
       "<div>                            <div id=\"745985af-5bce-4552-ade0-730dde23ab64\" class=\"plotly-graph-div\" style=\"height:525px; width:100%;\"></div>            <script type=\"text/javascript\">                require([\"plotly\"], function(Plotly) {                    window.PLOTLYENV=window.PLOTLYENV || {};                                    if (document.getElementById(\"745985af-5bce-4552-ade0-730dde23ab64\")) {                    Plotly.newPlot(                        \"745985af-5bce-4552-ade0-730dde23ab64\",                        [{\"branchvalues\":\"total\",\"domain\":{\"x\":[0.0,1.0],\"y\":[0.0,1.0]},\"hovertemplate\":\"labels=%{label}\\u003cbr\\u003erepo_count=%{value}\\u003cbr\\u003eparent=%{parent}\\u003cbr\\u003eid=%{id}\\u003cextra\\u003e\\u003c\\u002fextra\\u003e\",\"ids\":[\"True\\u002f.github\",\"True\\u002fGSMS\",\"True\\u002fLizardByte.github.io\",\"True\\u002fRetroArcher\",\"True\\u002fSunshine\",\"True\\u002fThemerr-jellyfin\",\"True\\u002fThemerr-kodi\",\"True\\u002fThemerr-plex\",\"True\\u002fThemerrDB\",\"True\\u002fVirtual-Gamepad-Emulation-Bus\",\"True\\u002fVirtual-Gamepad-Emulation-Client\",\"True\\u002fVirtual-Gamepad-Emulation-dotnet\",\"True\\u002fawesome-sunshine\",\"False\\u002fbuild-deps\",\"True\\u002fcreate-release-action\",\"True\\u002fdashboard\",\"False\\u002fdb\",\"True\\u002fdoxyconfig\",\"True\\u002fhomebrew-homebrew\",\"True\\u002fhomebrew-release-action\",\"True\\u002fjellyfin-plugin-repo\",\"True\\u002flibdisplaydevice\",\"True\\u002fnvapi-open-source-sdk\",\"True\\u002fpacman-repo\",\"True\\u002fsetup-python-action\",\"True\\u002fsetup-release-action\",\"True\\u002fshared-web\",\"True\\u002fsupport-bot\",\"True\\u002fsupport-bot-commands\",\"True\\u002ftemplate-base\",\"True\\u002ftray\",\"False\\u002funo\",\"True\\u002fupdate-changelog-action\",\"False\",\"True\"],\"labels\":[\".github\",\"GSMS\",\"LizardByte.github.io\",\"RetroArcher\",\"Sunshine\",\"Themerr-jellyfin\",\"Themerr-kodi\",\"Themerr-plex\",\"ThemerrDB\",\"Virtual-Gamepad-Emulation-Bus\",\"Virtual-Gamepad-Emulation-Client\",\"Virtual-Gamepad-Emulation-dotnet\",\"awesome-sunshine\",\"build-deps\",\"create-release-action\",\"dashboard\",\"db\",\"doxyconfig\",\"homebrew-homebrew\",\"homebrew-release-action\",\"jellyfin-plugin-repo\",\"libdisplaydevice\",\"nvapi-open-source-sdk\",\"pacman-repo\",\"setup-python-action\",\"setup-release-action\",\"shared-web\",\"support-bot\",\"support-bot-commands\",\"template-base\",\"tray\",\"uno\",\"update-changelog-action\",\"False\",\"True\"],\"name\":\"\",\"parents\":[\"True\",\"True\",\"True\",\"True\",\"True\",\"True\",\"True\",\"True\",\"True\",\"True\",\"True\",\"True\",\"True\",\"False\",\"True\",\"True\",\"False\",\"True\",\"True\",\"True\",\"True\",\"True\",\"True\",\"True\",\"True\",\"True\",\"True\",\"True\",\"True\",\"True\",\"True\",\"False\",\"True\",\"\",\"\"],\"values\":[1,1,1,1,1,1,1,1,1,1,1,1,1,1,1,1,1,1,1,1,1,1,1,1,1,1,1,1,1,1,1,1,1,3,30],\"type\":\"treemap\"},{\"branchvalues\":\"total\",\"domain\":{\"x\":[0.0,1.0],\"y\":[0.0,1.0]},\"hovertemplate\":\"labels=%{label}\\u003cbr\\u003erepo_count=%{value}\\u003cbr\\u003eparent=%{parent}\\u003cbr\\u003eid=%{id}\\u003cextra\\u003e\\u003c\\u002fextra\\u003e\",\"ids\":[\"True\\u002f.github\",\"True\\u002fGSMS\",\"True\\u002fLizardByte.github.io\",\"True\\u002fRetroArcher\",\"True\\u002fSunshine\",\"True\\u002fThemerr-jellyfin\",\"True\\u002fThemerr-kodi\",\"True\\u002fThemerr-plex\",\"True\\u002fThemerrDB\",\"True\\u002fVirtual-Gamepad-Emulation-Bus\",\"True\\u002fVirtual-Gamepad-Emulation-Client\",\"True\\u002fVirtual-Gamepad-Emulation-dotnet\",\"True\\u002fawesome-sunshine\",\"False\\u002fbuild-deps\",\"True\\u002fcreate-release-action\",\"True\\u002fdashboard\",\"False\\u002fdb\",\"True\\u002fdoxyconfig\",\"True\\u002fhomebrew-homebrew\",\"True\\u002fhomebrew-release-action\",\"True\\u002fjellyfin-plugin-repo\",\"True\\u002flibdisplaydevice\",\"True\\u002fnvapi-open-source-sdk\",\"True\\u002fpacman-repo\",\"True\\u002fsetup-python-action\",\"True\\u002fsetup-release-action\",\"True\\u002fshared-web\",\"True\\u002fsupport-bot\",\"True\\u002fsupport-bot-commands\",\"True\\u002ftemplate-base\",\"True\\u002ftray\",\"False\\u002funo\",\"True\\u002fupdate-changelog-action\",\"False\",\"True\"],\"labels\":[\".github\",\"GSMS\",\"LizardByte.github.io\",\"RetroArcher\",\"Sunshine\",\"Themerr-jellyfin\",\"Themerr-kodi\",\"Themerr-plex\",\"ThemerrDB\",\"Virtual-Gamepad-Emulation-Bus\",\"Virtual-Gamepad-Emulation-Client\",\"Virtual-Gamepad-Emulation-dotnet\",\"awesome-sunshine\",\"build-deps\",\"create-release-action\",\"dashboard\",\"db\",\"doxyconfig\",\"homebrew-homebrew\",\"homebrew-release-action\",\"jellyfin-plugin-repo\",\"libdisplaydevice\",\"nvapi-open-source-sdk\",\"pacman-repo\",\"setup-python-action\",\"setup-release-action\",\"shared-web\",\"support-bot\",\"support-bot-commands\",\"template-base\",\"tray\",\"uno\",\"update-changelog-action\",\"False\",\"True\"],\"name\":\"\",\"parents\":[\"True\",\"True\",\"True\",\"True\",\"True\",\"True\",\"True\",\"True\",\"True\",\"True\",\"True\",\"True\",\"True\",\"False\",\"True\",\"True\",\"False\",\"True\",\"True\",\"True\",\"True\",\"True\",\"True\",\"True\",\"True\",\"True\",\"True\",\"True\",\"True\",\"True\",\"True\",\"False\",\"True\",\"\",\"\"],\"values\":[1,1,1,1,1,1,1,1,1,1,1,1,1,1,1,1,1,1,1,1,1,1,1,1,1,1,1,1,1,1,1,1,1,3,30],\"type\":\"sunburst\",\"visible\":false}],                        {\"template\":{\"data\":{\"histogram2dcontour\":[{\"type\":\"histogram2dcontour\",\"colorbar\":{\"outlinewidth\":0,\"ticks\":\"\"},\"colorscale\":[[0.0,\"#0d0887\"],[0.1111111111111111,\"#46039f\"],[0.2222222222222222,\"#7201a8\"],[0.3333333333333333,\"#9c179e\"],[0.4444444444444444,\"#bd3786\"],[0.5555555555555556,\"#d8576b\"],[0.6666666666666666,\"#ed7953\"],[0.7777777777777778,\"#fb9f3a\"],[0.8888888888888888,\"#fdca26\"],[1.0,\"#f0f921\"]]}],\"choropleth\":[{\"type\":\"choropleth\",\"colorbar\":{\"outlinewidth\":0,\"ticks\":\"\"}}],\"histogram2d\":[{\"type\":\"histogram2d\",\"colorbar\":{\"outlinewidth\":0,\"ticks\":\"\"},\"colorscale\":[[0.0,\"#0d0887\"],[0.1111111111111111,\"#46039f\"],[0.2222222222222222,\"#7201a8\"],[0.3333333333333333,\"#9c179e\"],[0.4444444444444444,\"#bd3786\"],[0.5555555555555556,\"#d8576b\"],[0.6666666666666666,\"#ed7953\"],[0.7777777777777778,\"#fb9f3a\"],[0.8888888888888888,\"#fdca26\"],[1.0,\"#f0f921\"]]}],\"heatmap\":[{\"type\":\"heatmap\",\"colorbar\":{\"outlinewidth\":0,\"ticks\":\"\"},\"colorscale\":[[0.0,\"#0d0887\"],[0.1111111111111111,\"#46039f\"],[0.2222222222222222,\"#7201a8\"],[0.3333333333333333,\"#9c179e\"],[0.4444444444444444,\"#bd3786\"],[0.5555555555555556,\"#d8576b\"],[0.6666666666666666,\"#ed7953\"],[0.7777777777777778,\"#fb9f3a\"],[0.8888888888888888,\"#fdca26\"],[1.0,\"#f0f921\"]]}],\"heatmapgl\":[{\"type\":\"heatmapgl\",\"colorbar\":{\"outlinewidth\":0,\"ticks\":\"\"},\"colorscale\":[[0.0,\"#0d0887\"],[0.1111111111111111,\"#46039f\"],[0.2222222222222222,\"#7201a8\"],[0.3333333333333333,\"#9c179e\"],[0.4444444444444444,\"#bd3786\"],[0.5555555555555556,\"#d8576b\"],[0.6666666666666666,\"#ed7953\"],[0.7777777777777778,\"#fb9f3a\"],[0.8888888888888888,\"#fdca26\"],[1.0,\"#f0f921\"]]}],\"contourcarpet\":[{\"type\":\"contourcarpet\",\"colorbar\":{\"outlinewidth\":0,\"ticks\":\"\"}}],\"contour\":[{\"type\":\"contour\",\"colorbar\":{\"outlinewidth\":0,\"ticks\":\"\"},\"colorscale\":[[0.0,\"#0d0887\"],[0.1111111111111111,\"#46039f\"],[0.2222222222222222,\"#7201a8\"],[0.3333333333333333,\"#9c179e\"],[0.4444444444444444,\"#bd3786\"],[0.5555555555555556,\"#d8576b\"],[0.6666666666666666,\"#ed7953\"],[0.7777777777777778,\"#fb9f3a\"],[0.8888888888888888,\"#fdca26\"],[1.0,\"#f0f921\"]]}],\"surface\":[{\"type\":\"surface\",\"colorbar\":{\"outlinewidth\":0,\"ticks\":\"\"},\"colorscale\":[[0.0,\"#0d0887\"],[0.1111111111111111,\"#46039f\"],[0.2222222222222222,\"#7201a8\"],[0.3333333333333333,\"#9c179e\"],[0.4444444444444444,\"#bd3786\"],[0.5555555555555556,\"#d8576b\"],[0.6666666666666666,\"#ed7953\"],[0.7777777777777778,\"#fb9f3a\"],[0.8888888888888888,\"#fdca26\"],[1.0,\"#f0f921\"]]}],\"mesh3d\":[{\"type\":\"mesh3d\",\"colorbar\":{\"outlinewidth\":0,\"ticks\":\"\"}}],\"scatter\":[{\"marker\":{\"line\":{\"color\":\"#283442\"}},\"type\":\"scatter\"}],\"parcoords\":[{\"type\":\"parcoords\",\"line\":{\"colorbar\":{\"outlinewidth\":0,\"ticks\":\"\"}}}],\"scatterpolargl\":[{\"type\":\"scatterpolargl\",\"marker\":{\"colorbar\":{\"outlinewidth\":0,\"ticks\":\"\"}}}],\"bar\":[{\"error_x\":{\"color\":\"#f2f5fa\"},\"error_y\":{\"color\":\"#f2f5fa\"},\"marker\":{\"line\":{\"color\":\"rgb(17,17,17)\",\"width\":0.5},\"pattern\":{\"fillmode\":\"overlay\",\"size\":10,\"solidity\":0.2}},\"type\":\"bar\"}],\"scattergeo\":[{\"type\":\"scattergeo\",\"marker\":{\"colorbar\":{\"outlinewidth\":0,\"ticks\":\"\"}}}],\"scatterpolar\":[{\"type\":\"scatterpolar\",\"marker\":{\"colorbar\":{\"outlinewidth\":0,\"ticks\":\"\"}}}],\"histogram\":[{\"marker\":{\"pattern\":{\"fillmode\":\"overlay\",\"size\":10,\"solidity\":0.2}},\"type\":\"histogram\"}],\"scattergl\":[{\"marker\":{\"line\":{\"color\":\"#283442\"}},\"type\":\"scattergl\"}],\"scatter3d\":[{\"type\":\"scatter3d\",\"line\":{\"colorbar\":{\"outlinewidth\":0,\"ticks\":\"\"}},\"marker\":{\"colorbar\":{\"outlinewidth\":0,\"ticks\":\"\"}}}],\"scattermapbox\":[{\"type\":\"scattermapbox\",\"marker\":{\"colorbar\":{\"outlinewidth\":0,\"ticks\":\"\"}}}],\"scatterternary\":[{\"type\":\"scatterternary\",\"marker\":{\"colorbar\":{\"outlinewidth\":0,\"ticks\":\"\"}}}],\"scattercarpet\":[{\"type\":\"scattercarpet\",\"marker\":{\"colorbar\":{\"outlinewidth\":0,\"ticks\":\"\"}}}],\"carpet\":[{\"aaxis\":{\"endlinecolor\":\"#A2B1C6\",\"gridcolor\":\"#506784\",\"linecolor\":\"#506784\",\"minorgridcolor\":\"#506784\",\"startlinecolor\":\"#A2B1C6\"},\"baxis\":{\"endlinecolor\":\"#A2B1C6\",\"gridcolor\":\"#506784\",\"linecolor\":\"#506784\",\"minorgridcolor\":\"#506784\",\"startlinecolor\":\"#A2B1C6\"},\"type\":\"carpet\"}],\"table\":[{\"cells\":{\"fill\":{\"color\":\"#506784\"},\"line\":{\"color\":\"rgb(17,17,17)\"}},\"header\":{\"fill\":{\"color\":\"#2a3f5f\"},\"line\":{\"color\":\"rgb(17,17,17)\"}},\"type\":\"table\"}],\"barpolar\":[{\"marker\":{\"line\":{\"color\":\"rgb(17,17,17)\",\"width\":0.5},\"pattern\":{\"fillmode\":\"overlay\",\"size\":10,\"solidity\":0.2}},\"type\":\"barpolar\"}],\"pie\":[{\"automargin\":true,\"type\":\"pie\"}]},\"layout\":{\"autotypenumbers\":\"strict\",\"colorway\":[\"#636efa\",\"#EF553B\",\"#00cc96\",\"#ab63fa\",\"#FFA15A\",\"#19d3f3\",\"#FF6692\",\"#B6E880\",\"#FF97FF\",\"#FECB52\"],\"font\":{\"color\":\"#f2f5fa\"},\"hovermode\":\"closest\",\"hoverlabel\":{\"align\":\"left\"},\"paper_bgcolor\":\"rgb(17,17,17)\",\"plot_bgcolor\":\"rgb(17,17,17)\",\"polar\":{\"bgcolor\":\"rgb(17,17,17)\",\"angularaxis\":{\"gridcolor\":\"#506784\",\"linecolor\":\"#506784\",\"ticks\":\"\"},\"radialaxis\":{\"gridcolor\":\"#506784\",\"linecolor\":\"#506784\",\"ticks\":\"\"}},\"ternary\":{\"bgcolor\":\"rgb(17,17,17)\",\"aaxis\":{\"gridcolor\":\"#506784\",\"linecolor\":\"#506784\",\"ticks\":\"\"},\"baxis\":{\"gridcolor\":\"#506784\",\"linecolor\":\"#506784\",\"ticks\":\"\"},\"caxis\":{\"gridcolor\":\"#506784\",\"linecolor\":\"#506784\",\"ticks\":\"\"}},\"coloraxis\":{\"colorbar\":{\"outlinewidth\":0,\"ticks\":\"\"}},\"colorscale\":{\"sequential\":[[0.0,\"#0d0887\"],[0.1111111111111111,\"#46039f\"],[0.2222222222222222,\"#7201a8\"],[0.3333333333333333,\"#9c179e\"],[0.4444444444444444,\"#bd3786\"],[0.5555555555555556,\"#d8576b\"],[0.6666666666666666,\"#ed7953\"],[0.7777777777777778,\"#fb9f3a\"],[0.8888888888888888,\"#fdca26\"],[1.0,\"#f0f921\"]],\"sequentialminus\":[[0.0,\"#0d0887\"],[0.1111111111111111,\"#46039f\"],[0.2222222222222222,\"#7201a8\"],[0.3333333333333333,\"#9c179e\"],[0.4444444444444444,\"#bd3786\"],[0.5555555555555556,\"#d8576b\"],[0.6666666666666666,\"#ed7953\"],[0.7777777777777778,\"#fb9f3a\"],[0.8888888888888888,\"#fdca26\"],[1.0,\"#f0f921\"]],\"diverging\":[[0,\"#8e0152\"],[0.1,\"#c51b7d\"],[0.2,\"#de77ae\"],[0.3,\"#f1b6da\"],[0.4,\"#fde0ef\"],[0.5,\"#f7f7f7\"],[0.6,\"#e6f5d0\"],[0.7,\"#b8e186\"],[0.8,\"#7fbc41\"],[0.9,\"#4d9221\"],[1,\"#276419\"]]},\"xaxis\":{\"gridcolor\":\"#283442\",\"linecolor\":\"#506784\",\"ticks\":\"\",\"title\":{\"standoff\":15},\"zerolinecolor\":\"#283442\",\"automargin\":true,\"zerolinewidth\":2},\"yaxis\":{\"gridcolor\":\"#283442\",\"linecolor\":\"#506784\",\"ticks\":\"\",\"title\":{\"standoff\":15},\"zerolinecolor\":\"#283442\",\"automargin\":true,\"zerolinewidth\":2},\"scene\":{\"xaxis\":{\"backgroundcolor\":\"rgb(17,17,17)\",\"gridcolor\":\"#506784\",\"linecolor\":\"#506784\",\"showbackground\":true,\"ticks\":\"\",\"zerolinecolor\":\"#C8D4E3\",\"gridwidth\":2},\"yaxis\":{\"backgroundcolor\":\"rgb(17,17,17)\",\"gridcolor\":\"#506784\",\"linecolor\":\"#506784\",\"showbackground\":true,\"ticks\":\"\",\"zerolinecolor\":\"#C8D4E3\",\"gridwidth\":2},\"zaxis\":{\"backgroundcolor\":\"rgb(17,17,17)\",\"gridcolor\":\"#506784\",\"linecolor\":\"#506784\",\"showbackground\":true,\"ticks\":\"\",\"zerolinecolor\":\"#C8D4E3\",\"gridwidth\":2}},\"shapedefaults\":{\"line\":{\"color\":\"#f2f5fa\"}},\"annotationdefaults\":{\"arrowcolor\":\"#f2f5fa\",\"arrowhead\":0,\"arrowwidth\":1},\"geo\":{\"bgcolor\":\"rgb(17,17,17)\",\"landcolor\":\"rgb(17,17,17)\",\"subunitcolor\":\"#506784\",\"showland\":true,\"showlakes\":true,\"lakecolor\":\"rgb(17,17,17)\"},\"title\":{\"x\":0.05},\"updatemenudefaults\":{\"bgcolor\":\"#506784\",\"borderwidth\":0},\"sliderdefaults\":{\"bgcolor\":\"#C8D4E3\",\"borderwidth\":1,\"bordercolor\":\"rgb(17,17,17)\",\"tickwidth\":0},\"mapbox\":{\"style\":\"dark\"}}},\"title\":{\"text\":\"Has README file\"},\"updatemenus\":[{\"buttons\":[{\"args\":[{\"visible\":[true,false]}],\"label\":\"Treemap\",\"method\":\"update\"},{\"args\":[{\"visible\":[false,true]}],\"label\":\"Sunburst\",\"method\":\"update\"}],\"direction\":\"down\",\"showactive\":true}]},                        {\"responsive\": true}                    ).then(function(){\n",
       "                            \n",
       "var gd = document.getElementById('745985af-5bce-4552-ade0-730dde23ab64');\n",
       "var x = new MutationObserver(function (mutations, observer) {{\n",
       "        var display = window.getComputedStyle(gd).display;\n",
       "        if (!display || display === 'none') {{\n",
       "            console.log([gd, 'removed!']);\n",
       "            Plotly.purge(gd);\n",
       "            observer.disconnect();\n",
       "        }}\n",
       "}});\n",
       "\n",
       "// Listen for the removal of the full notebook cells\n",
       "var notebookContainer = gd.closest('#notebook-container');\n",
       "if (notebookContainer) {{\n",
       "    x.observe(notebookContainer, {childList: true});\n",
       "}}\n",
       "\n",
       "// Listen for the clearing of the current output cell\n",
       "var outputEl = gd.closest('.output');\n",
       "if (outputEl) {{\n",
       "    x.observe(outputEl, {childList: true});\n",
       "}}\n",
       "\n",
       "                        })                };                });            </script>        </div>"
      ]
     },
     "metadata": {},
     "output_type": "display_data"
    },
    {
     "data": {
      "application/vnd.plotly.v1+json": {
       "data": [
        {
         "branchvalues": "total",
         "domain": {
          "x": [
           0.0,
           1.0
          ],
          "y": [
           0.0,
           1.0
          ]
         },
         "hovertemplate": "labels=%{label}<br>repo_count=%{value}<br>parent=%{parent}<br>id=%{id}<extra></extra>",
         "ids": [
          "True/.github",
          "False/GSMS",
          "False/LizardByte.github.io",
          "True/RetroArcher",
          "True/Sunshine",
          "True/Themerr-jellyfin",
          "True/Themerr-kodi",
          "True/Themerr-plex",
          "False/ThemerrDB",
          "False/Virtual-Gamepad-Emulation-Bus",
          "False/Virtual-Gamepad-Emulation-Client",
          "False/Virtual-Gamepad-Emulation-dotnet",
          "False/awesome-sunshine",
          "False/build-deps",
          "False/create-release-action",
          "False/dashboard",
          "False/db",
          "True/doxyconfig",
          "False/homebrew-homebrew",
          "False/homebrew-release-action",
          "False/jellyfin-plugin-repo",
          "True/libdisplaydevice",
          "False/nvapi-open-source-sdk",
          "False/pacman-repo",
          "False/setup-python-action",
          "False/setup-release-action",
          "False/shared-web",
          "False/support-bot",
          "False/support-bot-commands",
          "False/template-base",
          "True/tray",
          "False/uno",
          "False/update-changelog-action",
          "False",
          "True"
         ],
         "labels": [
          ".github",
          "GSMS",
          "LizardByte.github.io",
          "RetroArcher",
          "Sunshine",
          "Themerr-jellyfin",
          "Themerr-kodi",
          "Themerr-plex",
          "ThemerrDB",
          "Virtual-Gamepad-Emulation-Bus",
          "Virtual-Gamepad-Emulation-Client",
          "Virtual-Gamepad-Emulation-dotnet",
          "awesome-sunshine",
          "build-deps",
          "create-release-action",
          "dashboard",
          "db",
          "doxyconfig",
          "homebrew-homebrew",
          "homebrew-release-action",
          "jellyfin-plugin-repo",
          "libdisplaydevice",
          "nvapi-open-source-sdk",
          "pacman-repo",
          "setup-python-action",
          "setup-release-action",
          "shared-web",
          "support-bot",
          "support-bot-commands",
          "template-base",
          "tray",
          "uno",
          "update-changelog-action",
          "False",
          "True"
         ],
         "name": "",
         "parents": [
          "True",
          "False",
          "False",
          "True",
          "True",
          "True",
          "True",
          "True",
          "False",
          "False",
          "False",
          "False",
          "False",
          "False",
          "False",
          "False",
          "False",
          "True",
          "False",
          "False",
          "False",
          "True",
          "False",
          "False",
          "False",
          "False",
          "False",
          "False",
          "False",
          "False",
          "True",
          "False",
          "False",
          "",
          ""
         ],
         "values": [
          1,
          1,
          1,
          1,
          1,
          1,
          1,
          1,
          1,
          1,
          1,
          1,
          1,
          1,
          1,
          1,
          1,
          1,
          1,
          1,
          1,
          1,
          1,
          1,
          1,
          1,
          1,
          1,
          1,
          1,
          1,
          1,
          1,
          24,
          9
         ],
         "type": "treemap"
        },
        {
         "branchvalues": "total",
         "domain": {
          "x": [
           0.0,
           1.0
          ],
          "y": [
           0.0,
           1.0
          ]
         },
         "hovertemplate": "labels=%{label}<br>repo_count=%{value}<br>parent=%{parent}<br>id=%{id}<extra></extra>",
         "ids": [
          "True/.github",
          "False/GSMS",
          "False/LizardByte.github.io",
          "True/RetroArcher",
          "True/Sunshine",
          "True/Themerr-jellyfin",
          "True/Themerr-kodi",
          "True/Themerr-plex",
          "False/ThemerrDB",
          "False/Virtual-Gamepad-Emulation-Bus",
          "False/Virtual-Gamepad-Emulation-Client",
          "False/Virtual-Gamepad-Emulation-dotnet",
          "False/awesome-sunshine",
          "False/build-deps",
          "False/create-release-action",
          "False/dashboard",
          "False/db",
          "True/doxyconfig",
          "False/homebrew-homebrew",
          "False/homebrew-release-action",
          "False/jellyfin-plugin-repo",
          "True/libdisplaydevice",
          "False/nvapi-open-source-sdk",
          "False/pacman-repo",
          "False/setup-python-action",
          "False/setup-release-action",
          "False/shared-web",
          "False/support-bot",
          "False/support-bot-commands",
          "False/template-base",
          "True/tray",
          "False/uno",
          "False/update-changelog-action",
          "False",
          "True"
         ],
         "labels": [
          ".github",
          "GSMS",
          "LizardByte.github.io",
          "RetroArcher",
          "Sunshine",
          "Themerr-jellyfin",
          "Themerr-kodi",
          "Themerr-plex",
          "ThemerrDB",
          "Virtual-Gamepad-Emulation-Bus",
          "Virtual-Gamepad-Emulation-Client",
          "Virtual-Gamepad-Emulation-dotnet",
          "awesome-sunshine",
          "build-deps",
          "create-release-action",
          "dashboard",
          "db",
          "doxyconfig",
          "homebrew-homebrew",
          "homebrew-release-action",
          "jellyfin-plugin-repo",
          "libdisplaydevice",
          "nvapi-open-source-sdk",
          "pacman-repo",
          "setup-python-action",
          "setup-release-action",
          "shared-web",
          "support-bot",
          "support-bot-commands",
          "template-base",
          "tray",
          "uno",
          "update-changelog-action",
          "False",
          "True"
         ],
         "name": "",
         "parents": [
          "True",
          "False",
          "False",
          "True",
          "True",
          "True",
          "True",
          "True",
          "False",
          "False",
          "False",
          "False",
          "False",
          "False",
          "False",
          "False",
          "False",
          "True",
          "False",
          "False",
          "False",
          "True",
          "False",
          "False",
          "False",
          "False",
          "False",
          "False",
          "False",
          "False",
          "True",
          "False",
          "False",
          "",
          ""
         ],
         "values": [
          1,
          1,
          1,
          1,
          1,
          1,
          1,
          1,
          1,
          1,
          1,
          1,
          1,
          1,
          1,
          1,
          1,
          1,
          1,
          1,
          1,
          1,
          1,
          1,
          1,
          1,
          1,
          1,
          1,
          1,
          1,
          1,
          1,
          24,
          9
         ],
         "type": "sunburst",
         "visible": false
        }
       ],
       "layout": {
        "template": {
         "data": {
          "histogram2dcontour": [
           {
            "type": "histogram2dcontour",
            "colorbar": {
             "outlinewidth": 0,
             "ticks": ""
            },
            "colorscale": [
             [
              0.0,
              "#0d0887"
             ],
             [
              0.1111111111111111,
              "#46039f"
             ],
             [
              0.2222222222222222,
              "#7201a8"
             ],
             [
              0.3333333333333333,
              "#9c179e"
             ],
             [
              0.4444444444444444,
              "#bd3786"
             ],
             [
              0.5555555555555556,
              "#d8576b"
             ],
             [
              0.6666666666666666,
              "#ed7953"
             ],
             [
              0.7777777777777778,
              "#fb9f3a"
             ],
             [
              0.8888888888888888,
              "#fdca26"
             ],
             [
              1.0,
              "#f0f921"
             ]
            ]
           }
          ],
          "choropleth": [
           {
            "type": "choropleth",
            "colorbar": {
             "outlinewidth": 0,
             "ticks": ""
            }
           }
          ],
          "histogram2d": [
           {
            "type": "histogram2d",
            "colorbar": {
             "outlinewidth": 0,
             "ticks": ""
            },
            "colorscale": [
             [
              0.0,
              "#0d0887"
             ],
             [
              0.1111111111111111,
              "#46039f"
             ],
             [
              0.2222222222222222,
              "#7201a8"
             ],
             [
              0.3333333333333333,
              "#9c179e"
             ],
             [
              0.4444444444444444,
              "#bd3786"
             ],
             [
              0.5555555555555556,
              "#d8576b"
             ],
             [
              0.6666666666666666,
              "#ed7953"
             ],
             [
              0.7777777777777778,
              "#fb9f3a"
             ],
             [
              0.8888888888888888,
              "#fdca26"
             ],
             [
              1.0,
              "#f0f921"
             ]
            ]
           }
          ],
          "heatmap": [
           {
            "type": "heatmap",
            "colorbar": {
             "outlinewidth": 0,
             "ticks": ""
            },
            "colorscale": [
             [
              0.0,
              "#0d0887"
             ],
             [
              0.1111111111111111,
              "#46039f"
             ],
             [
              0.2222222222222222,
              "#7201a8"
             ],
             [
              0.3333333333333333,
              "#9c179e"
             ],
             [
              0.4444444444444444,
              "#bd3786"
             ],
             [
              0.5555555555555556,
              "#d8576b"
             ],
             [
              0.6666666666666666,
              "#ed7953"
             ],
             [
              0.7777777777777778,
              "#fb9f3a"
             ],
             [
              0.8888888888888888,
              "#fdca26"
             ],
             [
              1.0,
              "#f0f921"
             ]
            ]
           }
          ],
          "heatmapgl": [
           {
            "type": "heatmapgl",
            "colorbar": {
             "outlinewidth": 0,
             "ticks": ""
            },
            "colorscale": [
             [
              0.0,
              "#0d0887"
             ],
             [
              0.1111111111111111,
              "#46039f"
             ],
             [
              0.2222222222222222,
              "#7201a8"
             ],
             [
              0.3333333333333333,
              "#9c179e"
             ],
             [
              0.4444444444444444,
              "#bd3786"
             ],
             [
              0.5555555555555556,
              "#d8576b"
             ],
             [
              0.6666666666666666,
              "#ed7953"
             ],
             [
              0.7777777777777778,
              "#fb9f3a"
             ],
             [
              0.8888888888888888,
              "#fdca26"
             ],
             [
              1.0,
              "#f0f921"
             ]
            ]
           }
          ],
          "contourcarpet": [
           {
            "type": "contourcarpet",
            "colorbar": {
             "outlinewidth": 0,
             "ticks": ""
            }
           }
          ],
          "contour": [
           {
            "type": "contour",
            "colorbar": {
             "outlinewidth": 0,
             "ticks": ""
            },
            "colorscale": [
             [
              0.0,
              "#0d0887"
             ],
             [
              0.1111111111111111,
              "#46039f"
             ],
             [
              0.2222222222222222,
              "#7201a8"
             ],
             [
              0.3333333333333333,
              "#9c179e"
             ],
             [
              0.4444444444444444,
              "#bd3786"
             ],
             [
              0.5555555555555556,
              "#d8576b"
             ],
             [
              0.6666666666666666,
              "#ed7953"
             ],
             [
              0.7777777777777778,
              "#fb9f3a"
             ],
             [
              0.8888888888888888,
              "#fdca26"
             ],
             [
              1.0,
              "#f0f921"
             ]
            ]
           }
          ],
          "surface": [
           {
            "type": "surface",
            "colorbar": {
             "outlinewidth": 0,
             "ticks": ""
            },
            "colorscale": [
             [
              0.0,
              "#0d0887"
             ],
             [
              0.1111111111111111,
              "#46039f"
             ],
             [
              0.2222222222222222,
              "#7201a8"
             ],
             [
              0.3333333333333333,
              "#9c179e"
             ],
             [
              0.4444444444444444,
              "#bd3786"
             ],
             [
              0.5555555555555556,
              "#d8576b"
             ],
             [
              0.6666666666666666,
              "#ed7953"
             ],
             [
              0.7777777777777778,
              "#fb9f3a"
             ],
             [
              0.8888888888888888,
              "#fdca26"
             ],
             [
              1.0,
              "#f0f921"
             ]
            ]
           }
          ],
          "mesh3d": [
           {
            "type": "mesh3d",
            "colorbar": {
             "outlinewidth": 0,
             "ticks": ""
            }
           }
          ],
          "scatter": [
           {
            "marker": {
             "line": {
              "color": "#283442"
             }
            },
            "type": "scatter"
           }
          ],
          "parcoords": [
           {
            "type": "parcoords",
            "line": {
             "colorbar": {
              "outlinewidth": 0,
              "ticks": ""
             }
            }
           }
          ],
          "scatterpolargl": [
           {
            "type": "scatterpolargl",
            "marker": {
             "colorbar": {
              "outlinewidth": 0,
              "ticks": ""
             }
            }
           }
          ],
          "bar": [
           {
            "error_x": {
             "color": "#f2f5fa"
            },
            "error_y": {
             "color": "#f2f5fa"
            },
            "marker": {
             "line": {
              "color": "rgb(17,17,17)",
              "width": 0.5
             },
             "pattern": {
              "fillmode": "overlay",
              "size": 10,
              "solidity": 0.2
             }
            },
            "type": "bar"
           }
          ],
          "scattergeo": [
           {
            "type": "scattergeo",
            "marker": {
             "colorbar": {
              "outlinewidth": 0,
              "ticks": ""
             }
            }
           }
          ],
          "scatterpolar": [
           {
            "type": "scatterpolar",
            "marker": {
             "colorbar": {
              "outlinewidth": 0,
              "ticks": ""
             }
            }
           }
          ],
          "histogram": [
           {
            "marker": {
             "pattern": {
              "fillmode": "overlay",
              "size": 10,
              "solidity": 0.2
             }
            },
            "type": "histogram"
           }
          ],
          "scattergl": [
           {
            "marker": {
             "line": {
              "color": "#283442"
             }
            },
            "type": "scattergl"
           }
          ],
          "scatter3d": [
           {
            "type": "scatter3d",
            "line": {
             "colorbar": {
              "outlinewidth": 0,
              "ticks": ""
             }
            },
            "marker": {
             "colorbar": {
              "outlinewidth": 0,
              "ticks": ""
             }
            }
           }
          ],
          "scattermapbox": [
           {
            "type": "scattermapbox",
            "marker": {
             "colorbar": {
              "outlinewidth": 0,
              "ticks": ""
             }
            }
           }
          ],
          "scatterternary": [
           {
            "type": "scatterternary",
            "marker": {
             "colorbar": {
              "outlinewidth": 0,
              "ticks": ""
             }
            }
           }
          ],
          "scattercarpet": [
           {
            "type": "scattercarpet",
            "marker": {
             "colorbar": {
              "outlinewidth": 0,
              "ticks": ""
             }
            }
           }
          ],
          "carpet": [
           {
            "aaxis": {
             "endlinecolor": "#A2B1C6",
             "gridcolor": "#506784",
             "linecolor": "#506784",
             "minorgridcolor": "#506784",
             "startlinecolor": "#A2B1C6"
            },
            "baxis": {
             "endlinecolor": "#A2B1C6",
             "gridcolor": "#506784",
             "linecolor": "#506784",
             "minorgridcolor": "#506784",
             "startlinecolor": "#A2B1C6"
            },
            "type": "carpet"
           }
          ],
          "table": [
           {
            "cells": {
             "fill": {
              "color": "#506784"
             },
             "line": {
              "color": "rgb(17,17,17)"
             }
            },
            "header": {
             "fill": {
              "color": "#2a3f5f"
             },
             "line": {
              "color": "rgb(17,17,17)"
             }
            },
            "type": "table"
           }
          ],
          "barpolar": [
           {
            "marker": {
             "line": {
              "color": "rgb(17,17,17)",
              "width": 0.5
             },
             "pattern": {
              "fillmode": "overlay",
              "size": 10,
              "solidity": 0.2
             }
            },
            "type": "barpolar"
           }
          ],
          "pie": [
           {
            "automargin": true,
            "type": "pie"
           }
          ]
         },
         "layout": {
          "autotypenumbers": "strict",
          "colorway": [
           "#636efa",
           "#EF553B",
           "#00cc96",
           "#ab63fa",
           "#FFA15A",
           "#19d3f3",
           "#FF6692",
           "#B6E880",
           "#FF97FF",
           "#FECB52"
          ],
          "font": {
           "color": "#f2f5fa"
          },
          "hovermode": "closest",
          "hoverlabel": {
           "align": "left"
          },
          "paper_bgcolor": "rgb(17,17,17)",
          "plot_bgcolor": "rgb(17,17,17)",
          "polar": {
           "bgcolor": "rgb(17,17,17)",
           "angularaxis": {
            "gridcolor": "#506784",
            "linecolor": "#506784",
            "ticks": ""
           },
           "radialaxis": {
            "gridcolor": "#506784",
            "linecolor": "#506784",
            "ticks": ""
           }
          },
          "ternary": {
           "bgcolor": "rgb(17,17,17)",
           "aaxis": {
            "gridcolor": "#506784",
            "linecolor": "#506784",
            "ticks": ""
           },
           "baxis": {
            "gridcolor": "#506784",
            "linecolor": "#506784",
            "ticks": ""
           },
           "caxis": {
            "gridcolor": "#506784",
            "linecolor": "#506784",
            "ticks": ""
           }
          },
          "coloraxis": {
           "colorbar": {
            "outlinewidth": 0,
            "ticks": ""
           }
          },
          "colorscale": {
           "sequential": [
            [
             0.0,
             "#0d0887"
            ],
            [
             0.1111111111111111,
             "#46039f"
            ],
            [
             0.2222222222222222,
             "#7201a8"
            ],
            [
             0.3333333333333333,
             "#9c179e"
            ],
            [
             0.4444444444444444,
             "#bd3786"
            ],
            [
             0.5555555555555556,
             "#d8576b"
            ],
            [
             0.6666666666666666,
             "#ed7953"
            ],
            [
             0.7777777777777778,
             "#fb9f3a"
            ],
            [
             0.8888888888888888,
             "#fdca26"
            ],
            [
             1.0,
             "#f0f921"
            ]
           ],
           "sequentialminus": [
            [
             0.0,
             "#0d0887"
            ],
            [
             0.1111111111111111,
             "#46039f"
            ],
            [
             0.2222222222222222,
             "#7201a8"
            ],
            [
             0.3333333333333333,
             "#9c179e"
            ],
            [
             0.4444444444444444,
             "#bd3786"
            ],
            [
             0.5555555555555556,
             "#d8576b"
            ],
            [
             0.6666666666666666,
             "#ed7953"
            ],
            [
             0.7777777777777778,
             "#fb9f3a"
            ],
            [
             0.8888888888888888,
             "#fdca26"
            ],
            [
             1.0,
             "#f0f921"
            ]
           ],
           "diverging": [
            [
             0,
             "#8e0152"
            ],
            [
             0.1,
             "#c51b7d"
            ],
            [
             0.2,
             "#de77ae"
            ],
            [
             0.3,
             "#f1b6da"
            ],
            [
             0.4,
             "#fde0ef"
            ],
            [
             0.5,
             "#f7f7f7"
            ],
            [
             0.6,
             "#e6f5d0"
            ],
            [
             0.7,
             "#b8e186"
            ],
            [
             0.8,
             "#7fbc41"
            ],
            [
             0.9,
             "#4d9221"
            ],
            [
             1,
             "#276419"
            ]
           ]
          },
          "xaxis": {
           "gridcolor": "#283442",
           "linecolor": "#506784",
           "ticks": "",
           "title": {
            "standoff": 15
           },
           "zerolinecolor": "#283442",
           "automargin": true,
           "zerolinewidth": 2
          },
          "yaxis": {
           "gridcolor": "#283442",
           "linecolor": "#506784",
           "ticks": "",
           "title": {
            "standoff": 15
           },
           "zerolinecolor": "#283442",
           "automargin": true,
           "zerolinewidth": 2
          },
          "scene": {
           "xaxis": {
            "backgroundcolor": "rgb(17,17,17)",
            "gridcolor": "#506784",
            "linecolor": "#506784",
            "showbackground": true,
            "ticks": "",
            "zerolinecolor": "#C8D4E3",
            "gridwidth": 2
           },
           "yaxis": {
            "backgroundcolor": "rgb(17,17,17)",
            "gridcolor": "#506784",
            "linecolor": "#506784",
            "showbackground": true,
            "ticks": "",
            "zerolinecolor": "#C8D4E3",
            "gridwidth": 2
           },
           "zaxis": {
            "backgroundcolor": "rgb(17,17,17)",
            "gridcolor": "#506784",
            "linecolor": "#506784",
            "showbackground": true,
            "ticks": "",
            "zerolinecolor": "#C8D4E3",
            "gridwidth": 2
           }
          },
          "shapedefaults": {
           "line": {
            "color": "#f2f5fa"
           }
          },
          "annotationdefaults": {
           "arrowcolor": "#f2f5fa",
           "arrowhead": 0,
           "arrowwidth": 1
          },
          "geo": {
           "bgcolor": "rgb(17,17,17)",
           "landcolor": "rgb(17,17,17)",
           "subunitcolor": "#506784",
           "showland": true,
           "showlakes": true,
           "lakecolor": "rgb(17,17,17)"
          },
          "title": {
           "x": 0.05
          },
          "updatemenudefaults": {
           "bgcolor": "#506784",
           "borderwidth": 0
          },
          "sliderdefaults": {
           "bgcolor": "#C8D4E3",
           "borderwidth": 1,
           "bordercolor": "rgb(17,17,17)",
           "tickwidth": 0
          },
          "mapbox": {
           "style": "dark"
          }
         }
        },
        "title": {
         "text": "Uses ReadTheDocs"
        },
        "updatemenus": [
         {
          "buttons": [
           {
            "args": [
             {
              "visible": [
               true,
               false
              ]
             }
            ],
            "label": "Treemap",
            "method": "update"
           },
           {
            "args": [
             {
              "visible": [
               false,
               true
              ]
             }
            ],
            "label": "Sunburst",
            "method": "update"
           }
          ],
          "direction": "down",
          "showactive": true
         }
        ]
       },
       "config": {
        "plotlyServerURL": "https://plot.ly"
       }
      },
      "text/html": [
       "<div>                            <div id=\"373ea7c0-fc6d-42bc-ab10-d64131397690\" class=\"plotly-graph-div\" style=\"height:525px; width:100%;\"></div>            <script type=\"text/javascript\">                require([\"plotly\"], function(Plotly) {                    window.PLOTLYENV=window.PLOTLYENV || {};                                    if (document.getElementById(\"373ea7c0-fc6d-42bc-ab10-d64131397690\")) {                    Plotly.newPlot(                        \"373ea7c0-fc6d-42bc-ab10-d64131397690\",                        [{\"branchvalues\":\"total\",\"domain\":{\"x\":[0.0,1.0],\"y\":[0.0,1.0]},\"hovertemplate\":\"labels=%{label}\\u003cbr\\u003erepo_count=%{value}\\u003cbr\\u003eparent=%{parent}\\u003cbr\\u003eid=%{id}\\u003cextra\\u003e\\u003c\\u002fextra\\u003e\",\"ids\":[\"True\\u002f.github\",\"False\\u002fGSMS\",\"False\\u002fLizardByte.github.io\",\"True\\u002fRetroArcher\",\"True\\u002fSunshine\",\"True\\u002fThemerr-jellyfin\",\"True\\u002fThemerr-kodi\",\"True\\u002fThemerr-plex\",\"False\\u002fThemerrDB\",\"False\\u002fVirtual-Gamepad-Emulation-Bus\",\"False\\u002fVirtual-Gamepad-Emulation-Client\",\"False\\u002fVirtual-Gamepad-Emulation-dotnet\",\"False\\u002fawesome-sunshine\",\"False\\u002fbuild-deps\",\"False\\u002fcreate-release-action\",\"False\\u002fdashboard\",\"False\\u002fdb\",\"True\\u002fdoxyconfig\",\"False\\u002fhomebrew-homebrew\",\"False\\u002fhomebrew-release-action\",\"False\\u002fjellyfin-plugin-repo\",\"True\\u002flibdisplaydevice\",\"False\\u002fnvapi-open-source-sdk\",\"False\\u002fpacman-repo\",\"False\\u002fsetup-python-action\",\"False\\u002fsetup-release-action\",\"False\\u002fshared-web\",\"False\\u002fsupport-bot\",\"False\\u002fsupport-bot-commands\",\"False\\u002ftemplate-base\",\"True\\u002ftray\",\"False\\u002funo\",\"False\\u002fupdate-changelog-action\",\"False\",\"True\"],\"labels\":[\".github\",\"GSMS\",\"LizardByte.github.io\",\"RetroArcher\",\"Sunshine\",\"Themerr-jellyfin\",\"Themerr-kodi\",\"Themerr-plex\",\"ThemerrDB\",\"Virtual-Gamepad-Emulation-Bus\",\"Virtual-Gamepad-Emulation-Client\",\"Virtual-Gamepad-Emulation-dotnet\",\"awesome-sunshine\",\"build-deps\",\"create-release-action\",\"dashboard\",\"db\",\"doxyconfig\",\"homebrew-homebrew\",\"homebrew-release-action\",\"jellyfin-plugin-repo\",\"libdisplaydevice\",\"nvapi-open-source-sdk\",\"pacman-repo\",\"setup-python-action\",\"setup-release-action\",\"shared-web\",\"support-bot\",\"support-bot-commands\",\"template-base\",\"tray\",\"uno\",\"update-changelog-action\",\"False\",\"True\"],\"name\":\"\",\"parents\":[\"True\",\"False\",\"False\",\"True\",\"True\",\"True\",\"True\",\"True\",\"False\",\"False\",\"False\",\"False\",\"False\",\"False\",\"False\",\"False\",\"False\",\"True\",\"False\",\"False\",\"False\",\"True\",\"False\",\"False\",\"False\",\"False\",\"False\",\"False\",\"False\",\"False\",\"True\",\"False\",\"False\",\"\",\"\"],\"values\":[1,1,1,1,1,1,1,1,1,1,1,1,1,1,1,1,1,1,1,1,1,1,1,1,1,1,1,1,1,1,1,1,1,24,9],\"type\":\"treemap\"},{\"branchvalues\":\"total\",\"domain\":{\"x\":[0.0,1.0],\"y\":[0.0,1.0]},\"hovertemplate\":\"labels=%{label}\\u003cbr\\u003erepo_count=%{value}\\u003cbr\\u003eparent=%{parent}\\u003cbr\\u003eid=%{id}\\u003cextra\\u003e\\u003c\\u002fextra\\u003e\",\"ids\":[\"True\\u002f.github\",\"False\\u002fGSMS\",\"False\\u002fLizardByte.github.io\",\"True\\u002fRetroArcher\",\"True\\u002fSunshine\",\"True\\u002fThemerr-jellyfin\",\"True\\u002fThemerr-kodi\",\"True\\u002fThemerr-plex\",\"False\\u002fThemerrDB\",\"False\\u002fVirtual-Gamepad-Emulation-Bus\",\"False\\u002fVirtual-Gamepad-Emulation-Client\",\"False\\u002fVirtual-Gamepad-Emulation-dotnet\",\"False\\u002fawesome-sunshine\",\"False\\u002fbuild-deps\",\"False\\u002fcreate-release-action\",\"False\\u002fdashboard\",\"False\\u002fdb\",\"True\\u002fdoxyconfig\",\"False\\u002fhomebrew-homebrew\",\"False\\u002fhomebrew-release-action\",\"False\\u002fjellyfin-plugin-repo\",\"True\\u002flibdisplaydevice\",\"False\\u002fnvapi-open-source-sdk\",\"False\\u002fpacman-repo\",\"False\\u002fsetup-python-action\",\"False\\u002fsetup-release-action\",\"False\\u002fshared-web\",\"False\\u002fsupport-bot\",\"False\\u002fsupport-bot-commands\",\"False\\u002ftemplate-base\",\"True\\u002ftray\",\"False\\u002funo\",\"False\\u002fupdate-changelog-action\",\"False\",\"True\"],\"labels\":[\".github\",\"GSMS\",\"LizardByte.github.io\",\"RetroArcher\",\"Sunshine\",\"Themerr-jellyfin\",\"Themerr-kodi\",\"Themerr-plex\",\"ThemerrDB\",\"Virtual-Gamepad-Emulation-Bus\",\"Virtual-Gamepad-Emulation-Client\",\"Virtual-Gamepad-Emulation-dotnet\",\"awesome-sunshine\",\"build-deps\",\"create-release-action\",\"dashboard\",\"db\",\"doxyconfig\",\"homebrew-homebrew\",\"homebrew-release-action\",\"jellyfin-plugin-repo\",\"libdisplaydevice\",\"nvapi-open-source-sdk\",\"pacman-repo\",\"setup-python-action\",\"setup-release-action\",\"shared-web\",\"support-bot\",\"support-bot-commands\",\"template-base\",\"tray\",\"uno\",\"update-changelog-action\",\"False\",\"True\"],\"name\":\"\",\"parents\":[\"True\",\"False\",\"False\",\"True\",\"True\",\"True\",\"True\",\"True\",\"False\",\"False\",\"False\",\"False\",\"False\",\"False\",\"False\",\"False\",\"False\",\"True\",\"False\",\"False\",\"False\",\"True\",\"False\",\"False\",\"False\",\"False\",\"False\",\"False\",\"False\",\"False\",\"True\",\"False\",\"False\",\"\",\"\"],\"values\":[1,1,1,1,1,1,1,1,1,1,1,1,1,1,1,1,1,1,1,1,1,1,1,1,1,1,1,1,1,1,1,1,1,24,9],\"type\":\"sunburst\",\"visible\":false}],                        {\"template\":{\"data\":{\"histogram2dcontour\":[{\"type\":\"histogram2dcontour\",\"colorbar\":{\"outlinewidth\":0,\"ticks\":\"\"},\"colorscale\":[[0.0,\"#0d0887\"],[0.1111111111111111,\"#46039f\"],[0.2222222222222222,\"#7201a8\"],[0.3333333333333333,\"#9c179e\"],[0.4444444444444444,\"#bd3786\"],[0.5555555555555556,\"#d8576b\"],[0.6666666666666666,\"#ed7953\"],[0.7777777777777778,\"#fb9f3a\"],[0.8888888888888888,\"#fdca26\"],[1.0,\"#f0f921\"]]}],\"choropleth\":[{\"type\":\"choropleth\",\"colorbar\":{\"outlinewidth\":0,\"ticks\":\"\"}}],\"histogram2d\":[{\"type\":\"histogram2d\",\"colorbar\":{\"outlinewidth\":0,\"ticks\":\"\"},\"colorscale\":[[0.0,\"#0d0887\"],[0.1111111111111111,\"#46039f\"],[0.2222222222222222,\"#7201a8\"],[0.3333333333333333,\"#9c179e\"],[0.4444444444444444,\"#bd3786\"],[0.5555555555555556,\"#d8576b\"],[0.6666666666666666,\"#ed7953\"],[0.7777777777777778,\"#fb9f3a\"],[0.8888888888888888,\"#fdca26\"],[1.0,\"#f0f921\"]]}],\"heatmap\":[{\"type\":\"heatmap\",\"colorbar\":{\"outlinewidth\":0,\"ticks\":\"\"},\"colorscale\":[[0.0,\"#0d0887\"],[0.1111111111111111,\"#46039f\"],[0.2222222222222222,\"#7201a8\"],[0.3333333333333333,\"#9c179e\"],[0.4444444444444444,\"#bd3786\"],[0.5555555555555556,\"#d8576b\"],[0.6666666666666666,\"#ed7953\"],[0.7777777777777778,\"#fb9f3a\"],[0.8888888888888888,\"#fdca26\"],[1.0,\"#f0f921\"]]}],\"heatmapgl\":[{\"type\":\"heatmapgl\",\"colorbar\":{\"outlinewidth\":0,\"ticks\":\"\"},\"colorscale\":[[0.0,\"#0d0887\"],[0.1111111111111111,\"#46039f\"],[0.2222222222222222,\"#7201a8\"],[0.3333333333333333,\"#9c179e\"],[0.4444444444444444,\"#bd3786\"],[0.5555555555555556,\"#d8576b\"],[0.6666666666666666,\"#ed7953\"],[0.7777777777777778,\"#fb9f3a\"],[0.8888888888888888,\"#fdca26\"],[1.0,\"#f0f921\"]]}],\"contourcarpet\":[{\"type\":\"contourcarpet\",\"colorbar\":{\"outlinewidth\":0,\"ticks\":\"\"}}],\"contour\":[{\"type\":\"contour\",\"colorbar\":{\"outlinewidth\":0,\"ticks\":\"\"},\"colorscale\":[[0.0,\"#0d0887\"],[0.1111111111111111,\"#46039f\"],[0.2222222222222222,\"#7201a8\"],[0.3333333333333333,\"#9c179e\"],[0.4444444444444444,\"#bd3786\"],[0.5555555555555556,\"#d8576b\"],[0.6666666666666666,\"#ed7953\"],[0.7777777777777778,\"#fb9f3a\"],[0.8888888888888888,\"#fdca26\"],[1.0,\"#f0f921\"]]}],\"surface\":[{\"type\":\"surface\",\"colorbar\":{\"outlinewidth\":0,\"ticks\":\"\"},\"colorscale\":[[0.0,\"#0d0887\"],[0.1111111111111111,\"#46039f\"],[0.2222222222222222,\"#7201a8\"],[0.3333333333333333,\"#9c179e\"],[0.4444444444444444,\"#bd3786\"],[0.5555555555555556,\"#d8576b\"],[0.6666666666666666,\"#ed7953\"],[0.7777777777777778,\"#fb9f3a\"],[0.8888888888888888,\"#fdca26\"],[1.0,\"#f0f921\"]]}],\"mesh3d\":[{\"type\":\"mesh3d\",\"colorbar\":{\"outlinewidth\":0,\"ticks\":\"\"}}],\"scatter\":[{\"marker\":{\"line\":{\"color\":\"#283442\"}},\"type\":\"scatter\"}],\"parcoords\":[{\"type\":\"parcoords\",\"line\":{\"colorbar\":{\"outlinewidth\":0,\"ticks\":\"\"}}}],\"scatterpolargl\":[{\"type\":\"scatterpolargl\",\"marker\":{\"colorbar\":{\"outlinewidth\":0,\"ticks\":\"\"}}}],\"bar\":[{\"error_x\":{\"color\":\"#f2f5fa\"},\"error_y\":{\"color\":\"#f2f5fa\"},\"marker\":{\"line\":{\"color\":\"rgb(17,17,17)\",\"width\":0.5},\"pattern\":{\"fillmode\":\"overlay\",\"size\":10,\"solidity\":0.2}},\"type\":\"bar\"}],\"scattergeo\":[{\"type\":\"scattergeo\",\"marker\":{\"colorbar\":{\"outlinewidth\":0,\"ticks\":\"\"}}}],\"scatterpolar\":[{\"type\":\"scatterpolar\",\"marker\":{\"colorbar\":{\"outlinewidth\":0,\"ticks\":\"\"}}}],\"histogram\":[{\"marker\":{\"pattern\":{\"fillmode\":\"overlay\",\"size\":10,\"solidity\":0.2}},\"type\":\"histogram\"}],\"scattergl\":[{\"marker\":{\"line\":{\"color\":\"#283442\"}},\"type\":\"scattergl\"}],\"scatter3d\":[{\"type\":\"scatter3d\",\"line\":{\"colorbar\":{\"outlinewidth\":0,\"ticks\":\"\"}},\"marker\":{\"colorbar\":{\"outlinewidth\":0,\"ticks\":\"\"}}}],\"scattermapbox\":[{\"type\":\"scattermapbox\",\"marker\":{\"colorbar\":{\"outlinewidth\":0,\"ticks\":\"\"}}}],\"scatterternary\":[{\"type\":\"scatterternary\",\"marker\":{\"colorbar\":{\"outlinewidth\":0,\"ticks\":\"\"}}}],\"scattercarpet\":[{\"type\":\"scattercarpet\",\"marker\":{\"colorbar\":{\"outlinewidth\":0,\"ticks\":\"\"}}}],\"carpet\":[{\"aaxis\":{\"endlinecolor\":\"#A2B1C6\",\"gridcolor\":\"#506784\",\"linecolor\":\"#506784\",\"minorgridcolor\":\"#506784\",\"startlinecolor\":\"#A2B1C6\"},\"baxis\":{\"endlinecolor\":\"#A2B1C6\",\"gridcolor\":\"#506784\",\"linecolor\":\"#506784\",\"minorgridcolor\":\"#506784\",\"startlinecolor\":\"#A2B1C6\"},\"type\":\"carpet\"}],\"table\":[{\"cells\":{\"fill\":{\"color\":\"#506784\"},\"line\":{\"color\":\"rgb(17,17,17)\"}},\"header\":{\"fill\":{\"color\":\"#2a3f5f\"},\"line\":{\"color\":\"rgb(17,17,17)\"}},\"type\":\"table\"}],\"barpolar\":[{\"marker\":{\"line\":{\"color\":\"rgb(17,17,17)\",\"width\":0.5},\"pattern\":{\"fillmode\":\"overlay\",\"size\":10,\"solidity\":0.2}},\"type\":\"barpolar\"}],\"pie\":[{\"automargin\":true,\"type\":\"pie\"}]},\"layout\":{\"autotypenumbers\":\"strict\",\"colorway\":[\"#636efa\",\"#EF553B\",\"#00cc96\",\"#ab63fa\",\"#FFA15A\",\"#19d3f3\",\"#FF6692\",\"#B6E880\",\"#FF97FF\",\"#FECB52\"],\"font\":{\"color\":\"#f2f5fa\"},\"hovermode\":\"closest\",\"hoverlabel\":{\"align\":\"left\"},\"paper_bgcolor\":\"rgb(17,17,17)\",\"plot_bgcolor\":\"rgb(17,17,17)\",\"polar\":{\"bgcolor\":\"rgb(17,17,17)\",\"angularaxis\":{\"gridcolor\":\"#506784\",\"linecolor\":\"#506784\",\"ticks\":\"\"},\"radialaxis\":{\"gridcolor\":\"#506784\",\"linecolor\":\"#506784\",\"ticks\":\"\"}},\"ternary\":{\"bgcolor\":\"rgb(17,17,17)\",\"aaxis\":{\"gridcolor\":\"#506784\",\"linecolor\":\"#506784\",\"ticks\":\"\"},\"baxis\":{\"gridcolor\":\"#506784\",\"linecolor\":\"#506784\",\"ticks\":\"\"},\"caxis\":{\"gridcolor\":\"#506784\",\"linecolor\":\"#506784\",\"ticks\":\"\"}},\"coloraxis\":{\"colorbar\":{\"outlinewidth\":0,\"ticks\":\"\"}},\"colorscale\":{\"sequential\":[[0.0,\"#0d0887\"],[0.1111111111111111,\"#46039f\"],[0.2222222222222222,\"#7201a8\"],[0.3333333333333333,\"#9c179e\"],[0.4444444444444444,\"#bd3786\"],[0.5555555555555556,\"#d8576b\"],[0.6666666666666666,\"#ed7953\"],[0.7777777777777778,\"#fb9f3a\"],[0.8888888888888888,\"#fdca26\"],[1.0,\"#f0f921\"]],\"sequentialminus\":[[0.0,\"#0d0887\"],[0.1111111111111111,\"#46039f\"],[0.2222222222222222,\"#7201a8\"],[0.3333333333333333,\"#9c179e\"],[0.4444444444444444,\"#bd3786\"],[0.5555555555555556,\"#d8576b\"],[0.6666666666666666,\"#ed7953\"],[0.7777777777777778,\"#fb9f3a\"],[0.8888888888888888,\"#fdca26\"],[1.0,\"#f0f921\"]],\"diverging\":[[0,\"#8e0152\"],[0.1,\"#c51b7d\"],[0.2,\"#de77ae\"],[0.3,\"#f1b6da\"],[0.4,\"#fde0ef\"],[0.5,\"#f7f7f7\"],[0.6,\"#e6f5d0\"],[0.7,\"#b8e186\"],[0.8,\"#7fbc41\"],[0.9,\"#4d9221\"],[1,\"#276419\"]]},\"xaxis\":{\"gridcolor\":\"#283442\",\"linecolor\":\"#506784\",\"ticks\":\"\",\"title\":{\"standoff\":15},\"zerolinecolor\":\"#283442\",\"automargin\":true,\"zerolinewidth\":2},\"yaxis\":{\"gridcolor\":\"#283442\",\"linecolor\":\"#506784\",\"ticks\":\"\",\"title\":{\"standoff\":15},\"zerolinecolor\":\"#283442\",\"automargin\":true,\"zerolinewidth\":2},\"scene\":{\"xaxis\":{\"backgroundcolor\":\"rgb(17,17,17)\",\"gridcolor\":\"#506784\",\"linecolor\":\"#506784\",\"showbackground\":true,\"ticks\":\"\",\"zerolinecolor\":\"#C8D4E3\",\"gridwidth\":2},\"yaxis\":{\"backgroundcolor\":\"rgb(17,17,17)\",\"gridcolor\":\"#506784\",\"linecolor\":\"#506784\",\"showbackground\":true,\"ticks\":\"\",\"zerolinecolor\":\"#C8D4E3\",\"gridwidth\":2},\"zaxis\":{\"backgroundcolor\":\"rgb(17,17,17)\",\"gridcolor\":\"#506784\",\"linecolor\":\"#506784\",\"showbackground\":true,\"ticks\":\"\",\"zerolinecolor\":\"#C8D4E3\",\"gridwidth\":2}},\"shapedefaults\":{\"line\":{\"color\":\"#f2f5fa\"}},\"annotationdefaults\":{\"arrowcolor\":\"#f2f5fa\",\"arrowhead\":0,\"arrowwidth\":1},\"geo\":{\"bgcolor\":\"rgb(17,17,17)\",\"landcolor\":\"rgb(17,17,17)\",\"subunitcolor\":\"#506784\",\"showland\":true,\"showlakes\":true,\"lakecolor\":\"rgb(17,17,17)\"},\"title\":{\"x\":0.05},\"updatemenudefaults\":{\"bgcolor\":\"#506784\",\"borderwidth\":0},\"sliderdefaults\":{\"bgcolor\":\"#C8D4E3\",\"borderwidth\":1,\"bordercolor\":\"rgb(17,17,17)\",\"tickwidth\":0},\"mapbox\":{\"style\":\"dark\"}}},\"title\":{\"text\":\"Uses ReadTheDocs\"},\"updatemenus\":[{\"buttons\":[{\"args\":[{\"visible\":[true,false]}],\"label\":\"Treemap\",\"method\":\"update\"},{\"args\":[{\"visible\":[false,true]}],\"label\":\"Sunburst\",\"method\":\"update\"}],\"direction\":\"down\",\"showactive\":true}]},                        {\"responsive\": true}                    ).then(function(){\n",
       "                            \n",
       "var gd = document.getElementById('373ea7c0-fc6d-42bc-ab10-d64131397690');\n",
       "var x = new MutationObserver(function (mutations, observer) {{\n",
       "        var display = window.getComputedStyle(gd).display;\n",
       "        if (!display || display === 'none') {{\n",
       "            console.log([gd, 'removed!']);\n",
       "            Plotly.purge(gd);\n",
       "            observer.disconnect();\n",
       "        }}\n",
       "}});\n",
       "\n",
       "// Listen for the removal of the full notebook cells\n",
       "var notebookContainer = gd.closest('#notebook-container');\n",
       "if (notebookContainer) {{\n",
       "    x.observe(notebookContainer, {childList: true});\n",
       "}}\n",
       "\n",
       "// Listen for the clearing of the current output cell\n",
       "var outputEl = gd.closest('.output');\n",
       "if (outputEl) {{\n",
       "    x.observe(outputEl, {childList: true});\n",
       "}}\n",
       "\n",
       "                        })                };                });            </script>        </div>"
      ]
     },
     "metadata": {},
     "output_type": "display_data"
    }
   ],
   "execution_count": 188
  }
 ],
 "metadata": {
  "kernelspec": {
   "display_name": "Python 3 (ipykernel)",
   "language": "python",
   "name": "python3"
  },
  "language_info": {
   "codemirror_mode": {
    "name": "ipython",
    "version": 3
   },
   "file_extension": ".py",
   "mimetype": "text/x-python",
   "name": "python",
   "nbconvert_exporter": "python",
   "pygments_lexer": "ipython3",
   "version": "3.12.0"
  }
 },
 "nbformat": 4,
 "nbformat_minor": 5
}
