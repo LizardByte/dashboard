{
 "cells": [
  {
   "cell_type": "markdown",
   "id": "4aed1755a10d75d7",
   "metadata": {},
   "source": [
    "<div align=\"center\">\n",
    "  <h1 align=\"center\">LizardByte Developer Dashboard</h1>\n",
    "</div>\n",
    "\n",
    "<div align=\"center\">\n",
    "[\n",
    "  <a href=\"#Developer-Tools\">Developer Tools</a> •\n",
    "  <a href=\"#Repository-Data\">Repository Data</a> •\n",
    "  <a href=\"#Star-Gazers\">Star Gazers</a> •\n",
    "  <a href=\"#Forks\">Forks</a> •\n",
    "  <a href=\"#Open-Issues\">Open Issues</a> •\n",
    "  <a href=\"#Open-PRs\">Open PRs</a> •\n",
    "  <a href=\"#License-Distribution\">License Distribution</a> •\n",
    "  <a href=\"#Coverage\">Coverage</a> •\n",
    "  <a href=\"#Programming-Languages\">Programming Languages</a> •\n",
    "  <a href=\"#Documentation\">Documentation</a>\n",
    "]\n",
    "</div>\n",
    "\n",
    "<div align=\"center\" id=\"Developer-Tools\">\n",
    "  <h2>Developer Tools</h2>\n",
    "  <a href=\"https://app.codecov.io/gh/LizardByte\">\n",
    "    <img src=\"https://img.shields.io/badge/codecov-button?style=for-the-badge&logo=codecov&color=gray\" alt=\"CodeCov\">\n",
    "  </a>\n",
    "  <a href=\"https://crowdin.com/project/lizardbyte\">\n",
    "    <img src=\"https://img.shields.io/badge/crowdin%20%28projects%29-button?style=for-the-badge&logo=crowdin&color=gray\" alt=\"Crowdin (projects)\">\n",
    "  </a>\n",
    "  <a href=\"https://crowdin.com/project/lizardbyte-docs\">\n",
    "    <img src=\"https://img.shields.io/badge/crowdin%20%28docs%29-button?style=for-the-badge&logo=crowdin&color=gray\" alt=\"Crowdin (docs)\">\n",
    "  </a>\n",
    "  <a href=\"https://github.com/organizations/LizardByte/settings/actions/caches\">\n",
    "    <img src=\"https://img.shields.io/badge/github%20caches-button?style=for-the-badge&logo=github-actions&color=gray\" alt=\"GitHub Caches\">\n",
    "  </a>\n",
    "  <a href=\"https://github.com/organizations/LizardByte/settings/actions/hosted-runners\">\n",
    "    <img src=\"https://img.shields.io/badge/github%20hosted%20runners-button?style=for-the-badge&logo=github&color=gray\" alt=\"GitHub Hosted Runners\">\n",
    "  </a>\n",
    "  <a href=\"https://www.npmjs.com/org/lizardbyte\">\n",
    "    <img src=\"https://img.shields.io/badge/npm-button?style=for-the-badge&logo=npm&color=gray\" alt=\"NPM\">\n",
    "  </a>\n",
    "  <a href=\"https://pypi.org/user/LizardByte\">\n",
    "    <img src=\"https://img.shields.io/badge/pypi-button?style=for-the-badge&logo=pypi&color=gray\" alt=\"PyPI\">\n",
    "  </a>\n",
    "  <a href=\"https://readthedocs.org/dashboard/lizardbyte/subprojects\">\n",
    "    <img src=\"https://img.shields.io/badge/readthedocs-button?style=for-the-badge&logo=readthedocs&color=gray\" alt=\"ReadTheDocs\">\n",
    "  </a>\n",
    "  <a href=\"https://sonarcloud.io/organizations/lizardbyte/projects\">\n",
    "    <img src=\"https://img.shields.io/badge/sonarcloud-button?style=for-the-badge&logo=sonarcloud&color=gray\" alt=\"SonarCloud\">\n",
    "  </a>\n",
    "</div>\n",
    "\n",
    "<div align=\"center\" id=\"Under Construction\">\n",
    "  <h3>Under Construction</h3>\n",
    "  <a href=\"https://cloudsmith.io/~lizardbyte/repos\">\n",
    "    <img src=\"https://img.shields.io/badge/cloudsmith-button?style=for-the-badge&logo=cloudsmith&color=yellow\" alt=\"Cloudsmith\">\n",
    "  </a>\n",
    "  <a href=\"https://copr.fedorainfracloud.org/coprs/lizardbyte\">\n",
    "    <img src=\"https://img.shields.io/badge/fedora%20copr-button?style=for-the-badge&logo=fedora&color=yellow\" alt=\"copr\">\n",
    "  </a>\n",
    "  <a href=\"https://developer.mend.io/github/LizardByte\">\n",
    "    <img src=\"https://img.shields.io/badge/renovate-button?style=for-the-badge&logo=renovate&color=yellow\" alt=\"renovate\">\n",
    "  </a>\n",
    "  <a href=\"https://lizardbyte.youtrack.cloud\">\n",
    "    <img src=\"https://img.shields.io/badge/youtrack-button?style=for-the-badge&logo=jetbrains&color=yellow\" alt=\"YouTrack\">\n",
    "  </a>\n",
    "</div>\n",
    "\n",
    "## Repository Data"
   ]
  },
  {
   "cell_type": "code",
   "execution_count": null,
   "id": "initial_id",
   "metadata": {},
   "outputs": [],
   "source": [
    "# Setup the environment\n",
    "import os\n",
    "import sys\n",
    "import time\n",
    "\n",
    "# disable TQDM output if not in debug mode\n",
    "if not os.getenv('ACTIONS_RUNNER_DEBUG') and not os.getenv('ACTIONS_STEP_DEBUG'):\n",
    "    os.environ['TQDM_DISABLE'] = '1'\n",
    "\n",
    "# Add the src directory to the path\n",
    "sys.path.insert(0, os.path.abspath(os.path.join(os.getcwd(), os.pardir)))\n",
    "\n",
    "from src import dashboard  # noqa: E402"
   ]
  },
  {
   "cell_type": "code",
   "execution_count": null,
   "id": "55ae039e9f91e18",
   "metadata": {},
   "outputs": [],
   "source": [
    "# get repo data\n",
    "dashboard.init()\n",
    "df_all_repos = dashboard.get_repo_data()\n",
    "df_repos = dashboard.get_df_repos()"
   ]
  },
  {
   "cell_type": "code",
   "execution_count": null,
   "id": "466d0d2fec2e1828",
   "metadata": {},
   "outputs": [],
   "source": [
    "# Initial Results\n",
    "print(f'Last Updated: {time.strftime(\"%Y-%m-%d %H:%M:%S\", time.gmtime())} UTC')\n",
    "print(f'Total Repositories: {len(df_all_repos)}')\n",
    "print(f'Archived Repositories: {df_all_repos[\"archived\"].sum()}')\n",
    "print(f'Forked Repositories: {df_all_repos[\"fork\"].sum()}')\n",
    "print(f'Total Open Issues: {df_all_repos[\"issues\"].apply(len).sum()}')\n",
    "print(f'Total Open PRs: {df_all_repos[\"prs\"].apply(len).sum()}')\n",
    "print(f'Open issues in active repositories: {df_repos[\"issues\"].apply(len).sum()}')\n",
    "print(f'Open PRs in active repositories: {df_repos[\"prs\"].apply(len).sum()}')"
   ]
  },
  {
   "cell_type": "markdown",
   "id": "616d87e4b0c3dea5",
   "metadata": {},
   "source": [
    "### Star Gazers"
   ]
  },
  {
   "cell_type": "code",
   "execution_count": null,
   "id": "337aca37b216cc0d",
   "metadata": {},
   "outputs": [],
   "source": [
    "# Stars\n",
    "dashboard.show_star_gazers()"
   ]
  },
  {
   "cell_type": "code",
   "execution_count": null,
   "id": "a08398efe666a399",
   "metadata": {},
   "outputs": [],
   "source": [
    "# Star History Visuals\n",
    "dashboard.show_star_history()"
   ]
  },
  {
   "cell_type": "markdown",
   "id": "d46c30581ed069fd",
   "metadata": {},
   "source": [
    "### Forks"
   ]
  },
  {
   "cell_type": "code",
   "execution_count": null,
   "id": "7c6ffc3f9b56adc6",
   "metadata": {},
   "outputs": [],
   "source": [
    "# Forks\n",
    "dashboard.show_forks()"
   ]
  },
  {
   "cell_type": "markdown",
   "id": "89ad81f3285c93d5",
   "metadata": {},
   "source": [
    "### Open Issues"
   ]
  },
  {
   "cell_type": "code",
   "execution_count": null,
   "id": "ce4c9d640154b774",
   "metadata": {},
   "outputs": [],
   "source": [
    "# Open Issues\n",
    "dashboard.show_issues()"
   ]
  },
  {
   "cell_type": "markdown",
   "id": "63b0eb1841d850be",
   "metadata": {},
   "source": [
    "### Open PRs"
   ]
  },
  {
   "cell_type": "code",
   "execution_count": null,
   "id": "4f473fe7a839b01c",
   "metadata": {},
   "outputs": [],
   "source": [
    "# PR Graph\n",
    "dashboard.show_pr_graph()"
   ]
  },
  {
   "cell_type": "code",
   "execution_count": null,
   "id": "b416c3c48ae4e103",
   "metadata": {},
   "outputs": [],
   "source": [
    "# PR Table\n",
    "dashboard.show_pr_table()"
   ]
  },
  {
   "cell_type": "markdown",
   "id": "3c067ce1b06d52da",
   "metadata": {},
   "source": [
    "### License Distribution"
   ]
  },
  {
   "cell_type": "code",
   "execution_count": null,
   "id": "2bd8913a09eb4802",
   "metadata": {},
   "outputs": [],
   "source": [
    "# License distribution\n",
    "dashboard.show_license_distribution()"
   ]
  },
  {
   "cell_type": "markdown",
   "id": "1e7ac0186201244b",
   "metadata": {},
   "source": [
    "### Coverage"
   ]
  },
  {
   "cell_type": "code",
   "execution_count": null,
   "id": "c8dced4bcfff438",
   "metadata": {},
   "outputs": [],
   "source": [
    "# Coverage\n",
    "dashboard.show_coverage()"
   ]
  },
  {
   "cell_type": "markdown",
   "id": "d9116f5c8e154dae",
   "metadata": {},
   "source": [
    "### Programming Languages"
   ]
  },
  {
   "cell_type": "code",
   "execution_count": null,
   "id": "20e09d93eda0478a",
   "metadata": {},
   "outputs": [],
   "source": [
    "# Programming Languages\n",
    "dashboard.show_language_data()"
   ]
  },
  {
   "cell_type": "markdown",
   "id": "a520a320cd823874",
   "metadata": {},
   "source": [
    "### Documentation"
   ]
  },
  {
   "cell_type": "code",
   "execution_count": null,
   "id": "ec43a8fd7f9d49bb",
   "metadata": {},
   "outputs": [],
   "source": [
    "# Docs\n",
    "dashboard.show_docs_data()"
   ]
  }
 ],
 "metadata": {
  "kernelspec": {
   "display_name": "Python 3 (ipykernel)",
   "language": "python",
   "name": "python3"
  },
  "language_info": {
   "codemirror_mode": {
    "name": "ipython",
    "version": 3
   },
   "file_extension": ".py",
   "mimetype": "text/x-python",
   "name": "python",
   "nbconvert_exporter": "python",
   "pygments_lexer": "ipython3"
  }
 },
 "nbformat": 4,
 "nbformat_minor": 5
}
